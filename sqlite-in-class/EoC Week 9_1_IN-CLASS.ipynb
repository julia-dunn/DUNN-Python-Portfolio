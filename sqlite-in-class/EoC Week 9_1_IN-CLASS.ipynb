{
 "cells": [
  {
   "cell_type": "markdown",
   "metadata": {},
   "source": [
    "# Intermediate SQL with SQLite in Python\n",
    "\n",
    "In this lesson, we will work with the **Sakila** database—a sample database originally created by MySQL and ported to SQLite. The Sakila database contains a rich schema (including tables such as `actor`, `film`, `film_actor`, etc.) that provides real-world data to explore advanced SQL techniques.\n",
    "\n",
    "### What You'll Learn:\n",
    "- How to connect to a SQLite database file (`sakila.db`) using Python's `sqlite3` module.\n",
    "- How to explore the Sakila database schema by listing tables and previewing data.\n",
    "- How to write SQL queries using JOINs, aggregate functions, GROUP BY, and HAVING.\n",
    "- How to apply these techniques with partner practice exercises.\n",
    "\n",
    "**Note:** Ensure the `sakila.db` file is in your working directory before running the notebook."
   ]
  },
  {
   "cell_type": "code",
   "execution_count": 2,
   "metadata": {},
   "outputs": [
    {
     "name": "stdout",
     "output_type": "stream",
     "text": [
      "Connected to SQLite Sakila database!\n"
     ]
    }
   ],
   "source": [
    "import sqlite3\n",
    "import pandas as pd\n",
    "\n",
    "# Set the path to the SQLite database\n",
    "db_path = \"sakila.db\"\n",
    "\n",
    "# Connect to SQLite database\n",
    "conn = sqlite3.connect(db_path)\n",
    "print(\"Connected to SQLite Sakila database!\")"
   ]
  },
  {
   "cell_type": "markdown",
   "metadata": {},
   "source": [
    "### Exploring the Database Schema\n",
    "\n",
    "Before diving into queries, it's useful to know which tables are available in the Sakila database. We'll list all tables by querying the SQLite master table."
   ]
  },
  {
   "cell_type": "code",
   "execution_count": 4,
   "metadata": {},
   "outputs": [
    {
     "name": "stdout",
     "output_type": "stream",
     "text": [
      "Tables in the database:\n",
      "               name\n",
      "0             actor\n",
      "1           country\n",
      "2              city\n",
      "3           address\n",
      "4          language\n",
      "5          category\n",
      "6          customer\n",
      "7              film\n",
      "8        film_actor\n",
      "9     film_category\n",
      "10        film_text\n",
      "11        inventory\n",
      "12            staff\n",
      "13            store\n",
      "14          payment\n",
      "15           rental\n",
      "16        customers\n",
      "17  sqlite_sequence\n",
      "18       test_table\n"
     ]
    }
   ],
   "source": [
    "# List all tables in the database\n",
    "tables = pd.read_sql(\"\"\"SELECT name \n",
    "                        FROM sqlite_master \n",
    "                        WHERE type='table';\"\"\", conn)\n",
    "\n",
    "print(\"Tables in the database:\")\n",
    "print(tables)"
   ]
  },
  {
   "cell_type": "markdown",
   "metadata": {},
   "source": [
    "### Viewing Sample Data from the 'actor' Table\n",
    "\n",
    "Let's preview a few rows from the `actor` table to see what kind of data it holds.\n",
    "\n",
    "Select the following columns:\n",
    "- actor_id\n",
    "- first_name\n",
    "- last_name\n",
    "\n",
    "Connect two string columns with || ' ' || and create an alias with \"AS\""
   ]
  },
  {
   "cell_type": "code",
   "execution_count": 14,
   "metadata": {},
   "outputs": [
    {
     "name": "stdout",
     "output_type": "stream",
     "text": [
      "Sample rows from the 'actor' table:\n",
      "   actor_id           actor_name\n",
      "0         1     PENELOPE GUINESS\n",
      "1         2        NICK WAHLBERG\n",
      "2         3             ED CHASE\n",
      "3         4       JENNIFER DAVIS\n",
      "4         5  JOHNNY LOLLOBRIGIDA\n"
     ]
    }
   ],
   "source": [
    "# Define SQL query to fetch the first 5 rows from the actor table.\n",
    "# second command joins the elements together and renames the column\n",
    "query_actor = \"\"\"SELECT actor_id, first_name ||' '|| last_name AS actor_name \n",
    "                 FROM actor\n",
    "                 LIMIT 5; \n",
    "              \"\"\"\n",
    "# limits actor_id, not index \n",
    "# Execute the query using pd.read_sql.\n",
    "df_actor = pd.read_sql(query_actor, conn)\n",
    "\n",
    "print(\"Sample rows from the 'actor' table:\")\n",
    "print(df_actor)"
   ]
  },
  {
   "cell_type": "markdown",
   "metadata": {},
   "source": [
    "### Viewing Sample Data from the 'film' Table\n",
    "\n",
    "Let's preview a few rows from the `film` table to see what kind of data it holds.\n",
    "\n",
    "Select the following columns:\n",
    "- film_id\n",
    "- title\n",
    "- length\n",
    "- rating"
   ]
  },
  {
   "cell_type": "code",
   "execution_count": 25,
   "metadata": {},
   "outputs": [
    {
     "name": "stdout",
     "output_type": "stream",
     "text": [
      "Sample rows from the 'film' table:\n",
      "   film_id             title  length rating\n",
      "0        1  ACADEMY DINOSAUR      86     PG\n",
      "1        2    ACE GOLDFINGER      48      G\n",
      "2        3  ADAPTATION HOLES      50  NC-17\n",
      "3        4  AFFAIR PREJUDICE     117      G\n",
      "4        5       AFRICAN EGG     130      G\n"
     ]
    }
   ],
   "source": [
    "# Define SQL query to fetch the first 5 rows from the actor table.\n",
    "query_film = \"\"\"SELECT film_id, title, length, rating\n",
    "                FROM film\n",
    "                LIMIT 5;\n",
    "             \"\"\"\n",
    "\n",
    "# Execute the query using pd.read_sql.\n",
    "df_film = pd.read_sql(query_film, conn)\n",
    "\n",
    "print(\"Sample rows from the 'film' table:\")\n",
    "print(df_film)"
   ]
  },
  {
   "cell_type": "markdown",
   "metadata": {},
   "source": [
    "### Viewing Sample Data from the 'film_actor' Table\n",
    "\n",
    "Let's preview a few rows from the `film_actor` table to see what kind of data it holds.\n",
    "\n",
    "Select all columns."
   ]
  },
  {
   "cell_type": "code",
   "execution_count": 13,
   "metadata": {},
   "outputs": [
    {
     "name": "stdout",
     "output_type": "stream",
     "text": [
      "Sample rows from the 'film_actor' table:\n",
      "   actor_id  film_id          last_update\n",
      "0         1        1  2021-03-06 15:52:45\n",
      "1         1       23  2021-03-06 15:52:45\n",
      "2         1       25  2021-03-06 15:52:45\n",
      "3         1      106  2021-03-06 15:52:45\n",
      "4         1      140  2021-03-06 15:52:45\n"
     ]
    }
   ],
   "source": [
    "# Define SQL query to fetch the first 5 rows from the actor table.\n",
    "query_film_actor = \"\"\"SELECT * \n",
    "                      FROM film_actor\n",
    "                      LIMIT 5;\n",
    "                   \"\"\"\n",
    "\n",
    "# Execute the query using pd.read_sql.\n",
    "df_film_actor = pd.read_sql(query_film_actor, conn)\n",
    "\n",
    "print(\"Sample rows from the 'film_actor' table:\")\n",
    "print(df_film_actor)"
   ]
  },
  {
   "cell_type": "markdown",
   "metadata": {},
   "source": [
    "### JOIN Query: Actors and Their Films\n",
    "\n",
    "Next, we'll join three tables—`actor`, `film_actor`, and `film`—to list film titles along with the full names of actors who appear in them.\n",
    "\n",
    "- **Tables Involved:**\n",
    "  - `actor`: Contains actor details.\n",
    "  - `film_actor`: A bridge table linking actors to films.\n",
    "  - `film`: Contains film details.\n",
    "\n",
    "The join connects:\n",
    "- `actor.actor_id` with `film_actor.actor_id`\n",
    "- `film_actor.film_id` with `film.film_id`\n",
    "\n",
    "Let's see the first 10 actor-film associations."
   ]
  },
  {
   "cell_type": "code",
   "execution_count": null,
   "metadata": {},
   "outputs": [
    {
     "name": "stdout",
     "output_type": "stream",
     "text": [
      "Actor - Film Associations (first 10 rows):\n",
      "  first_name last_name                  title\n",
      "0   PENELOPE   GUINESS       ACADEMY DINOSAUR\n",
      "1   PENELOPE   GUINESS   ANACONDA CONFESSIONS\n",
      "2   PENELOPE   GUINESS            ANGELS LIFE\n",
      "3   PENELOPE   GUINESS  BULWORTH COMMANDMENTS\n",
      "4   PENELOPE   GUINESS          CHEAPER CLYDE\n",
      "5   PENELOPE   GUINESS     COLOR PHILADELPHIA\n",
      "6   PENELOPE   GUINESS        ELEPHANT TROJAN\n",
      "7   PENELOPE   GUINESS    GLEAMING JAWBREAKER\n",
      "8   PENELOPE   GUINESS         HUMAN GRAFFITI\n",
      "9   PENELOPE   GUINESS         KING EVOLUTION\n"
     ]
    }
   ],
   "source": [
    "# Define SQL query for actor-film associations.\n",
    "# join actor table with film table via film_actor\n",
    "join_query = \"\"\"SELECT actor.first_name, actor.last_name, film.title\n",
    "                FROM actor \n",
    "                JOIN film_actor ON actor.actor_id = film_actor.actor_id\n",
    "                JOIN film ON film.film_id = film_actor.film_id\n",
    "                ORDER BY actor.actor_id\n",
    "                LIMIT 10;\n",
    "             \"\"\"\n",
    "# DESC to go from bottom of list of actor ids instead of ASC for top\n",
    "# if create an alias using AS need to change code throughout the rest where it is referenced\n",
    "# defaults order ascending primary key of first table \n",
    "\n",
    "# Execute the query using pd.read_sql.\n",
    "df_join = pd.read_sql(join_query, conn)\n",
    "\n",
    "print(\"Actor - Film Associations (first 10 rows):\")\n",
    "print(df_join)"
   ]
  },
  {
   "cell_type": "markdown",
   "metadata": {},
   "source": [
    "### Aggregation Query: Counting Actors per Film\n",
    "\n",
    "Now, we'll count the number of actors featured in each film. This query uses:\n",
    "- **JOIN:** To connect `film` and `film_actor`.\n",
    "- **GROUP BY:** To group data by film title.\n",
    "- **HAVING:** To filter films with more than 3 actors.\n",
    "\n",
    "This helps identify films with larger casts."
   ]
  },
  {
   "cell_type": "code",
   "execution_count": 23,
   "metadata": {},
   "outputs": [
    {
     "name": "stdout",
     "output_type": "stream",
     "text": [
      "Films with more than 3 actors (top 10):\n",
      "                 title  actor_count\n",
      "0     LAMBS CINCINATTI           15\n",
      "1    BOONDOCK BALLROOM           13\n",
      "2          CHITTY LOCK           13\n",
      "3           CRAZY HOME           13\n",
      "4      DRACULA CRYSTAL           13\n",
      "5      MUMMY CREATURES           13\n",
      "6            RANDOM GO           13\n",
      "7         ARABIA DOGMA           12\n",
      "8  HELLFIGHTERS SIERRA           12\n",
      "9     LESSON CLEOPATRA           12\n"
     ]
    }
   ],
   "source": [
    "# Define SQL query for counting actors per film.\n",
    "agg_query = \"\"\"SELECT f.title, COUNT(film_actor.actor_id) AS actor_count\n",
    "               FROM film as f\n",
    "               LEFT JOIN film_actor ON f.film_id = film_actor.film_id\n",
    "               GROUP BY f.film_id\n",
    "               HAVING actor_count > 3\n",
    "               ORDER BY actor_count DESC\n",
    "               LIMIT 10;\n",
    "            \"\"\"\n",
    "\n",
    "# Execute the query using pd.read_sql.\n",
    "df_agg = pd.read_sql(agg_query, conn)\n",
    "\n",
    "print(\"Films with more than 3 actors (top 10):\")\n",
    "print(df_agg)"
   ]
  },
  {
   "cell_type": "markdown",
   "metadata": {},
   "source": [
    "# Group Exercises\n",
    "- Find a neighbor, yes, move around and make a new friend!\n",
    "- Work through the following practice exercises together."
   ]
  },
  {
   "cell_type": "markdown",
   "metadata": {},
   "source": [
    "# Partner Practice Exercise\n",
    "\n",
    "Now that we've seen several examples of JOINs and aggregation queries, it's time for you to practice with a partner. Complete the following tasks using the Sakila database:\n",
    "\n",
    "1. **Task 1: Write a JOIN Query**\n",
    "   - Write a query to retrieve a list of films along with the full names of the actors (first and last name) who acted in them.\n",
    "   - *Hint:* Join the `film`, `film_actor`, and `actor` tables. Use string concatenation (e.g., `first_name || ' ' || last_name`) for full names.\n",
    "\n",
    "2. **Task 2: Write an Aggregation Query**\n",
    "   - Write a query to find the average film length for each film category.\n",
    "   - *Hint:* Join the `film`, `film_category`, and `category` tables, then use the `AVG()` function with `GROUP BY`.\n",
    "\n",
    "3. **Task 3: Challenge Task (Optional)**\n",
    "   - Combine your results: Write a query to list film titles, the count of actors in each film, and the film category. Filter to show only films with more than 5 actors.\n",
    "   - *Hint:* You might need to use multiple joins and group by both film title and category.\n",
    "\n",
    "Discuss your approaches with your partner, compare your results, and be ready to review a few solutions as a class."
   ]
  },
  {
   "cell_type": "code",
   "execution_count": null,
   "metadata": {},
   "outputs": [],
   "source": [
    "# Task 1: Retrieve a list of films along with the full names of the actors.\n",
    "task1_query = \"\"\"\n",
    "\n",
    "              \"\"\"\n",
    "\n",
    "# Execute the query using pd.read_sql.\n",
    "df_task1 = pd.read_sql(task1_query, conn)\n",
    "\n",
    "print(\"Task 1: Films with Actor Full Names (first 20 rows):\")\n",
    "print(df_task1)"
   ]
  },
  {
   "cell_type": "code",
   "execution_count": 27,
   "metadata": {},
   "outputs": [
    {
     "name": "stdout",
     "output_type": "stream",
     "text": [
      "Task 2: Average Film Length per Category:\n",
      "   category_name  avg_length\n",
      "0    Documentary  115.747854\n",
      "1         Sci-Fi  115.731629\n",
      "2       Children  115.621277\n",
      "3      Animation  115.572805\n",
      "4            New  115.550694\n",
      "5         Action  115.522436\n",
      "6       Classics  115.489926\n",
      "7         Horror  115.437500\n",
      "8         Travel  115.390244\n",
      "9          Music  115.359326\n",
      "10        Family  115.308271\n",
      "11        Comedy  115.237792\n",
      "12         Drama  114.904051\n",
      "13       Foreign  114.765912\n",
      "14         Games  114.455804\n",
      "15        Sports  114.238661\n"
     ]
    }
   ],
   "source": [
    "# Task 2: Find the average film length for each film category.\n",
    "task2_query = \"\"\"SELECT c.name AS category_name, AVG(f.length) AS avg_length\n",
    "                 FROM film as f\n",
    "                 JOIN film_category AS fc ON f.film_id = fc.film_id\n",
    "                 JOIN category AS c ON fc.category_id - c.category_id\n",
    "                 GROUP BY c.name\n",
    "                 ORDER BY avg_length DESC\n",
    "              \"\"\"\n",
    "\n",
    "# Execute the query using pd.read_sql.\n",
    "df_task2 = pd.read_sql(task2_query, conn)\n",
    "\n",
    "print(\"Task 2: Average Film Length per Category:\")\n",
    "print(df_task2)"
   ]
  },
  {
   "cell_type": "code",
   "execution_count": null,
   "metadata": {},
   "outputs": [],
   "source": [
    "# Task 3: List film titles, count of actors, and film category for films with more than 5 actors.\n",
    "task3_query = \"\"\"\n",
    "\n",
    "            \"\"\"\n",
    "\n",
    "# Execute the query using pd.read_sql.\n",
    "df_task3 = pd.read_sql(task3_query, conn)\n",
    "\n",
    "print(\"Task 3: Films with more than 5 Actors (showing film title, actor count, category):\")\n",
    "print(df_task3)"
   ]
  },
  {
   "cell_type": "markdown",
   "metadata": {},
   "source": [
    "## Close the connection to the database.\n",
    "Always close the connection when you're done to free up resources."
   ]
  },
  {
   "cell_type": "code",
   "execution_count": 24,
   "metadata": {},
   "outputs": [],
   "source": [
    "# Close the connection\n",
    "#conn.close()"
   ]
  }
 ],
 "metadata": {
  "kernelspec": {
   "display_name": "base",
   "language": "python",
   "name": "python3"
  },
  "language_info": {
   "codemirror_mode": {
    "name": "ipython",
    "version": 3
   },
   "file_extension": ".py",
   "mimetype": "text/x-python",
   "name": "python",
   "nbconvert_exporter": "python",
   "pygments_lexer": "ipython3",
   "version": "3.12.7"
  }
 },
 "nbformat": 4,
 "nbformat_minor": 2
}

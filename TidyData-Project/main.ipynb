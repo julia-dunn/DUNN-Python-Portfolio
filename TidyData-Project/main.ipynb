{
 "cells": [
  {
   "cell_type": "markdown",
   "metadata": {},
   "source": [
    "## Tidy Data Project: Federal Research and Development Budgets"
   ]
  },
  {
   "cell_type": "markdown",
   "metadata": {},
   "source": [
    "This is the Jupiter Notebook for my Tidy Data Project, using the data file regarding the federal research and development budgets across different government departments."
   ]
  },
  {
   "cell_type": "markdown",
   "metadata": {},
   "source": [
    "#### Section One: Data Cleaning and Tidying Process"
   ]
  },
  {
   "cell_type": "markdown",
   "metadata": {},
   "source": [
    "In tyding the data, I must first define my dataframe"
   ]
  },
  {
   "cell_type": "code",
   "execution_count": 2,
   "metadata": {},
   "outputs": [],
   "source": [
    "import pandas as pd # import pandas dictionary to be referred to later\n",
    "import seaborn as sns\n",
    "import numpy as np\n",
    "import matplotlib.pyplot as plt\n",
    "import squarify\n",
    "from pypalettes import load_cmap\n",
    "from highlight_text import fig_text\n",
    "\n",
    "df_fedrd = pd.read_csv('fed_rd_year&gdp.csv') # define dataframe"
   ]
  },
  {
   "cell_type": "markdown",
   "metadata": {},
   "source": [
    "Next, I need to melt my dataframe such that the different variables are defined. This step is what reorients the columns such that the years and GDPs, which are values, are not correctly different rows. It must still be split such that the year and GDP variables are different columns. "
   ]
  },
  {
   "cell_type": "code",
   "execution_count": 3,
   "metadata": {},
   "outputs": [
    {
     "data": {
      "text/html": [
       "<div>\n",
       "<style scoped>\n",
       "    .dataframe tbody tr th:only-of-type {\n",
       "        vertical-align: middle;\n",
       "    }\n",
       "\n",
       "    .dataframe tbody tr th {\n",
       "        vertical-align: top;\n",
       "    }\n",
       "\n",
       "    .dataframe thead th {\n",
       "        text-align: right;\n",
       "    }\n",
       "</style>\n",
       "<table border=\"1\" class=\"dataframe\">\n",
       "  <thead>\n",
       "    <tr style=\"text-align: right;\">\n",
       "      <th></th>\n",
       "      <th>department</th>\n",
       "      <th>Year_GDP</th>\n",
       "      <th>Research and Development Budget</th>\n",
       "    </tr>\n",
       "  </thead>\n",
       "  <tbody>\n",
       "    <tr>\n",
       "      <th>0</th>\n",
       "      <td>DHS</td>\n",
       "      <td>1976_gdp1790000000000.0</td>\n",
       "      <td>NaN</td>\n",
       "    </tr>\n",
       "    <tr>\n",
       "      <th>1</th>\n",
       "      <td>DOC</td>\n",
       "      <td>1976_gdp1790000000000.0</td>\n",
       "      <td>8.190000e+08</td>\n",
       "    </tr>\n",
       "    <tr>\n",
       "      <th>2</th>\n",
       "      <td>DOD</td>\n",
       "      <td>1976_gdp1790000000000.0</td>\n",
       "      <td>3.569600e+10</td>\n",
       "    </tr>\n",
       "    <tr>\n",
       "      <th>3</th>\n",
       "      <td>DOE</td>\n",
       "      <td>1976_gdp1790000000000.0</td>\n",
       "      <td>1.088200e+10</td>\n",
       "    </tr>\n",
       "    <tr>\n",
       "      <th>4</th>\n",
       "      <td>DOT</td>\n",
       "      <td>1976_gdp1790000000000.0</td>\n",
       "      <td>1.142000e+09</td>\n",
       "    </tr>\n",
       "    <tr>\n",
       "      <th>...</th>\n",
       "      <td>...</td>\n",
       "      <td>...</td>\n",
       "      <td>...</td>\n",
       "    </tr>\n",
       "    <tr>\n",
       "      <th>583</th>\n",
       "      <td>NIH</td>\n",
       "      <td>2017_gdp19177000000000.0</td>\n",
       "      <td>3.305200e+10</td>\n",
       "    </tr>\n",
       "    <tr>\n",
       "      <th>584</th>\n",
       "      <td>NSF</td>\n",
       "      <td>2017_gdp19177000000000.0</td>\n",
       "      <td>6.040000e+09</td>\n",
       "    </tr>\n",
       "    <tr>\n",
       "      <th>585</th>\n",
       "      <td>Other</td>\n",
       "      <td>2017_gdp19177000000000.0</td>\n",
       "      <td>1.553000e+09</td>\n",
       "    </tr>\n",
       "    <tr>\n",
       "      <th>586</th>\n",
       "      <td>USDA</td>\n",
       "      <td>2017_gdp19177000000000.0</td>\n",
       "      <td>2.625000e+09</td>\n",
       "    </tr>\n",
       "    <tr>\n",
       "      <th>587</th>\n",
       "      <td>VA</td>\n",
       "      <td>2017_gdp19177000000000.0</td>\n",
       "      <td>1.367000e+09</td>\n",
       "    </tr>\n",
       "  </tbody>\n",
       "</table>\n",
       "<p>588 rows × 3 columns</p>\n",
       "</div>"
      ],
      "text/plain": [
       "    department                  Year_GDP  Research and Development Budget\n",
       "0          DHS   1976_gdp1790000000000.0                              NaN\n",
       "1          DOC   1976_gdp1790000000000.0                     8.190000e+08\n",
       "2          DOD   1976_gdp1790000000000.0                     3.569600e+10\n",
       "3          DOE   1976_gdp1790000000000.0                     1.088200e+10\n",
       "4          DOT   1976_gdp1790000000000.0                     1.142000e+09\n",
       "..         ...                       ...                              ...\n",
       "583        NIH  2017_gdp19177000000000.0                     3.305200e+10\n",
       "584        NSF  2017_gdp19177000000000.0                     6.040000e+09\n",
       "585      Other  2017_gdp19177000000000.0                     1.553000e+09\n",
       "586       USDA  2017_gdp19177000000000.0                     2.625000e+09\n",
       "587         VA  2017_gdp19177000000000.0                     1.367000e+09\n",
       "\n",
       "[588 rows x 3 columns]"
      ]
     },
     "execution_count": 3,
     "metadata": {},
     "output_type": "execute_result"
    }
   ],
   "source": [
    "df_fedrd_melted = pd.melt(df_fedrd,\n",
    "                          id_vars = 'department', # holds constant the column for department\n",
    "                          value_vars = df_fedrd.columns[1:], # selects all the columns to be reoriented\n",
    "                          var_name = 'Year_GDP', # renames the column now containing the previous column names\n",
    "                          value_name='Research and Development Budget') #names the column containing all of the values from the original untidy dataframe\n",
    "\n",
    "df_fedrd_melted"
   ]
  },
  {
   "cell_type": "markdown",
   "metadata": {},
   "source": [
    "Now, I still need to split the dataframe such that the gdp and year are different columns, with correct formatting"
   ]
  },
  {
   "cell_type": "code",
   "execution_count": 4,
   "metadata": {},
   "outputs": [
    {
     "data": {
      "text/html": [
       "<div>\n",
       "<style scoped>\n",
       "    .dataframe tbody tr th:only-of-type {\n",
       "        vertical-align: middle;\n",
       "    }\n",
       "\n",
       "    .dataframe tbody tr th {\n",
       "        vertical-align: top;\n",
       "    }\n",
       "\n",
       "    .dataframe thead th {\n",
       "        text-align: right;\n",
       "    }\n",
       "</style>\n",
       "<table border=\"1\" class=\"dataframe\">\n",
       "  <thead>\n",
       "    <tr style=\"text-align: right;\">\n",
       "      <th></th>\n",
       "      <th>department</th>\n",
       "      <th>Research and Development Budget</th>\n",
       "      <th>Year</th>\n",
       "      <th>GDP</th>\n",
       "    </tr>\n",
       "  </thead>\n",
       "  <tbody>\n",
       "    <tr>\n",
       "      <th>0</th>\n",
       "      <td>DHS</td>\n",
       "      <td>NaN</td>\n",
       "      <td>1976</td>\n",
       "      <td>1790000000000.0</td>\n",
       "    </tr>\n",
       "    <tr>\n",
       "      <th>1</th>\n",
       "      <td>DOC</td>\n",
       "      <td>8.190000e+08</td>\n",
       "      <td>1976</td>\n",
       "      <td>1790000000000.0</td>\n",
       "    </tr>\n",
       "    <tr>\n",
       "      <th>2</th>\n",
       "      <td>DOD</td>\n",
       "      <td>3.569600e+10</td>\n",
       "      <td>1976</td>\n",
       "      <td>1790000000000.0</td>\n",
       "    </tr>\n",
       "    <tr>\n",
       "      <th>3</th>\n",
       "      <td>DOE</td>\n",
       "      <td>1.088200e+10</td>\n",
       "      <td>1976</td>\n",
       "      <td>1790000000000.0</td>\n",
       "    </tr>\n",
       "    <tr>\n",
       "      <th>4</th>\n",
       "      <td>DOT</td>\n",
       "      <td>1.142000e+09</td>\n",
       "      <td>1976</td>\n",
       "      <td>1790000000000.0</td>\n",
       "    </tr>\n",
       "    <tr>\n",
       "      <th>...</th>\n",
       "      <td>...</td>\n",
       "      <td>...</td>\n",
       "      <td>...</td>\n",
       "      <td>...</td>\n",
       "    </tr>\n",
       "    <tr>\n",
       "      <th>583</th>\n",
       "      <td>NIH</td>\n",
       "      <td>3.305200e+10</td>\n",
       "      <td>2017</td>\n",
       "      <td>19177000000000.0</td>\n",
       "    </tr>\n",
       "    <tr>\n",
       "      <th>584</th>\n",
       "      <td>NSF</td>\n",
       "      <td>6.040000e+09</td>\n",
       "      <td>2017</td>\n",
       "      <td>19177000000000.0</td>\n",
       "    </tr>\n",
       "    <tr>\n",
       "      <th>585</th>\n",
       "      <td>Other</td>\n",
       "      <td>1.553000e+09</td>\n",
       "      <td>2017</td>\n",
       "      <td>19177000000000.0</td>\n",
       "    </tr>\n",
       "    <tr>\n",
       "      <th>586</th>\n",
       "      <td>USDA</td>\n",
       "      <td>2.625000e+09</td>\n",
       "      <td>2017</td>\n",
       "      <td>19177000000000.0</td>\n",
       "    </tr>\n",
       "    <tr>\n",
       "      <th>587</th>\n",
       "      <td>VA</td>\n",
       "      <td>1.367000e+09</td>\n",
       "      <td>2017</td>\n",
       "      <td>19177000000000.0</td>\n",
       "    </tr>\n",
       "  </tbody>\n",
       "</table>\n",
       "<p>588 rows × 4 columns</p>\n",
       "</div>"
      ],
      "text/plain": [
       "    department  Research and Development Budget  Year               GDP\n",
       "0          DHS                              NaN  1976   1790000000000.0\n",
       "1          DOC                     8.190000e+08  1976   1790000000000.0\n",
       "2          DOD                     3.569600e+10  1976   1790000000000.0\n",
       "3          DOE                     1.088200e+10  1976   1790000000000.0\n",
       "4          DOT                     1.142000e+09  1976   1790000000000.0\n",
       "..         ...                              ...   ...               ...\n",
       "583        NIH                     3.305200e+10  2017  19177000000000.0\n",
       "584        NSF                     6.040000e+09  2017  19177000000000.0\n",
       "585      Other                     1.553000e+09  2017  19177000000000.0\n",
       "586       USDA                     2.625000e+09  2017  19177000000000.0\n",
       "587         VA                     1.367000e+09  2017  19177000000000.0\n",
       "\n",
       "[588 rows x 4 columns]"
      ]
     },
     "execution_count": 4,
     "metadata": {},
     "output_type": "execute_result"
    }
   ],
   "source": [
    "df_fedrd_melted[['Year','GDP']] = df_fedrd_melted['Year_GDP'].str.split('_', expand=True) # splits the column with two variables into two columns, expand=true makes them two columns instead of a list of two variables\n",
    "df_fedrd_melted_tidy = df_fedrd_melted.drop('Year_GDP', axis=1) # gets rid of messy/unwanted column\n",
    "df_fedrd_melted_tidy['GDP'] = df_fedrd_melted_tidy['GDP'].str.replace('gdp','') # fixes formatting such that GDP column does not contain unnecessary information\n",
    "df_fedrd_melted_tidy"
   ]
  },
  {
   "cell_type": "markdown",
   "metadata": {},
   "source": [
    "The next step is to tidy the data with regards to the missing data, as for the first few years there is no recorded information regarding the research and development budget of the DHS. What is missing from this dataset, nore specifically, is the research and development budget for the department DHS (that is the department for homeland security), from 1976 to 2001. This makes sense because the department of homeland security was created in 2002. Thus, this value is missing at random. It is not dependent on the value of the budget itself but instead dependent on a different variable. Thus, what makes the most sense with regards to this missing data is a deletion of the missing observations, or null values."
   ]
  },
  {
   "cell_type": "code",
   "execution_count": 5,
   "metadata": {},
   "outputs": [
    {
     "data": {
      "text/html": [
       "<div>\n",
       "<style scoped>\n",
       "    .dataframe tbody tr th:only-of-type {\n",
       "        vertical-align: middle;\n",
       "    }\n",
       "\n",
       "    .dataframe tbody tr th {\n",
       "        vertical-align: top;\n",
       "    }\n",
       "\n",
       "    .dataframe thead th {\n",
       "        text-align: right;\n",
       "    }\n",
       "</style>\n",
       "<table border=\"1\" class=\"dataframe\">\n",
       "  <thead>\n",
       "    <tr style=\"text-align: right;\">\n",
       "      <th></th>\n",
       "      <th>department</th>\n",
       "      <th>Research and Development Budget</th>\n",
       "      <th>Year</th>\n",
       "      <th>GDP</th>\n",
       "    </tr>\n",
       "  </thead>\n",
       "  <tbody>\n",
       "    <tr>\n",
       "      <th>1</th>\n",
       "      <td>DOC</td>\n",
       "      <td>8.190000e+08</td>\n",
       "      <td>1976</td>\n",
       "      <td>1790000000000.0</td>\n",
       "    </tr>\n",
       "    <tr>\n",
       "      <th>2</th>\n",
       "      <td>DOD</td>\n",
       "      <td>3.569600e+10</td>\n",
       "      <td>1976</td>\n",
       "      <td>1790000000000.0</td>\n",
       "    </tr>\n",
       "    <tr>\n",
       "      <th>3</th>\n",
       "      <td>DOE</td>\n",
       "      <td>1.088200e+10</td>\n",
       "      <td>1976</td>\n",
       "      <td>1790000000000.0</td>\n",
       "    </tr>\n",
       "    <tr>\n",
       "      <th>4</th>\n",
       "      <td>DOT</td>\n",
       "      <td>1.142000e+09</td>\n",
       "      <td>1976</td>\n",
       "      <td>1790000000000.0</td>\n",
       "    </tr>\n",
       "    <tr>\n",
       "      <th>5</th>\n",
       "      <td>EPA</td>\n",
       "      <td>9.680000e+08</td>\n",
       "      <td>1976</td>\n",
       "      <td>1790000000000.0</td>\n",
       "    </tr>\n",
       "    <tr>\n",
       "      <th>...</th>\n",
       "      <td>...</td>\n",
       "      <td>...</td>\n",
       "      <td>...</td>\n",
       "      <td>...</td>\n",
       "    </tr>\n",
       "    <tr>\n",
       "      <th>583</th>\n",
       "      <td>NIH</td>\n",
       "      <td>3.305200e+10</td>\n",
       "      <td>2017</td>\n",
       "      <td>19177000000000.0</td>\n",
       "    </tr>\n",
       "    <tr>\n",
       "      <th>584</th>\n",
       "      <td>NSF</td>\n",
       "      <td>6.040000e+09</td>\n",
       "      <td>2017</td>\n",
       "      <td>19177000000000.0</td>\n",
       "    </tr>\n",
       "    <tr>\n",
       "      <th>585</th>\n",
       "      <td>Other</td>\n",
       "      <td>1.553000e+09</td>\n",
       "      <td>2017</td>\n",
       "      <td>19177000000000.0</td>\n",
       "    </tr>\n",
       "    <tr>\n",
       "      <th>586</th>\n",
       "      <td>USDA</td>\n",
       "      <td>2.625000e+09</td>\n",
       "      <td>2017</td>\n",
       "      <td>19177000000000.0</td>\n",
       "    </tr>\n",
       "    <tr>\n",
       "      <th>587</th>\n",
       "      <td>VA</td>\n",
       "      <td>1.367000e+09</td>\n",
       "      <td>2017</td>\n",
       "      <td>19177000000000.0</td>\n",
       "    </tr>\n",
       "  </tbody>\n",
       "</table>\n",
       "<p>562 rows × 4 columns</p>\n",
       "</div>"
      ],
      "text/plain": [
       "    department  Research and Development Budget  Year               GDP\n",
       "1          DOC                     8.190000e+08  1976   1790000000000.0\n",
       "2          DOD                     3.569600e+10  1976   1790000000000.0\n",
       "3          DOE                     1.088200e+10  1976   1790000000000.0\n",
       "4          DOT                     1.142000e+09  1976   1790000000000.0\n",
       "5          EPA                     9.680000e+08  1976   1790000000000.0\n",
       "..         ...                              ...   ...               ...\n",
       "583        NIH                     3.305200e+10  2017  19177000000000.0\n",
       "584        NSF                     6.040000e+09  2017  19177000000000.0\n",
       "585      Other                     1.553000e+09  2017  19177000000000.0\n",
       "586       USDA                     2.625000e+09  2017  19177000000000.0\n",
       "587         VA                     1.367000e+09  2017  19177000000000.0\n",
       "\n",
       "[562 rows x 4 columns]"
      ]
     },
     "execution_count": 5,
     "metadata": {},
     "output_type": "execute_result"
    }
   ],
   "source": [
    "df_fedrd_melted_tidy = df_fedrd_melted_tidy.dropna() # .dropna() removes all of the null values from the data frame\n",
    "df_fedrd_melted_tidy"
   ]
  },
  {
   "cell_type": "markdown",
   "metadata": {},
   "source": [
    "#### Section Two: Analysis of the Data"
   ]
  },
  {
   "cell_type": "markdown",
   "metadata": {},
   "source": [
    "##### Part One: Pivot Tables and Aggregation Functions"
   ]
  },
  {
   "cell_type": "markdown",
   "metadata": {},
   "source": [
    "The below table uses mean aggregation functions to demonstrate the mean GDP and Research Development Budget for each of the federal departments in the dataset. The mean GDP is constant across all departments because that was a value representing the Gross Domestic Product of the combined funds the federal govenrment distributed. Thus, the GDP was dependent on time but did not differ across department in any specific year."
   ]
  },
  {
   "cell_type": "code",
   "execution_count": 6,
   "metadata": {},
   "outputs": [],
   "source": [
    "# in order to calculate the mean and use aggregation functions, the values need to be numeric datatypes, cannot be objects\n",
    "df_fedrd_melted_tidy.loc[:,'Research and Development Budget'] = pd.to_numeric(df_fedrd_melted_tidy['Research and Development Budget']) \n",
    "df_fedrd_melted_tidy.loc[:,'GDP'] = pd.to_numeric(df_fedrd_melted_tidy['GDP'])\n",
    "df_fedrd_melted_tidy.loc[:,'Year'] = pd.to_numeric(df_fedrd_melted_tidy['Year'])"
   ]
  },
  {
   "cell_type": "code",
   "execution_count": 7,
   "metadata": {},
   "outputs": [
    {
     "data": {
      "text/html": [
       "<div>\n",
       "<style scoped>\n",
       "    .dataframe tbody tr th:only-of-type {\n",
       "        vertical-align: middle;\n",
       "    }\n",
       "\n",
       "    .dataframe tbody tr th {\n",
       "        vertical-align: top;\n",
       "    }\n",
       "\n",
       "    .dataframe thead th {\n",
       "        text-align: right;\n",
       "    }\n",
       "</style>\n",
       "<table border=\"1\" class=\"dataframe\">\n",
       "  <thead>\n",
       "    <tr style=\"text-align: right;\">\n",
       "      <th></th>\n",
       "      <th>GDP</th>\n",
       "      <th>Research and Development Budget</th>\n",
       "    </tr>\n",
       "    <tr>\n",
       "      <th>department</th>\n",
       "      <th></th>\n",
       "      <th></th>\n",
       "    </tr>\n",
       "  </thead>\n",
       "  <tbody>\n",
       "    <tr>\n",
       "      <th>DHS</th>\n",
       "      <td>14997312500000.0</td>\n",
       "      <td>9.948750e+08</td>\n",
       "    </tr>\n",
       "    <tr>\n",
       "      <th>DOC</th>\n",
       "      <td>9175119047619.046875</td>\n",
       "      <td>1.231500e+09</td>\n",
       "    </tr>\n",
       "    <tr>\n",
       "      <th>DOD</th>\n",
       "      <td>9175119047619.046875</td>\n",
       "      <td>6.468519e+10</td>\n",
       "    </tr>\n",
       "    <tr>\n",
       "      <th>DOE</th>\n",
       "      <td>9175119047619.046875</td>\n",
       "      <td>1.188338e+10</td>\n",
       "    </tr>\n",
       "    <tr>\n",
       "      <th>DOT</th>\n",
       "      <td>9175119047619.046875</td>\n",
       "      <td>9.177857e+08</td>\n",
       "    </tr>\n",
       "    <tr>\n",
       "      <th>EPA</th>\n",
       "      <td>9175119047619.046875</td>\n",
       "      <td>7.504286e+08</td>\n",
       "    </tr>\n",
       "    <tr>\n",
       "      <th>HHS</th>\n",
       "      <td>9175119047619.046875</td>\n",
       "      <td>2.229676e+10</td>\n",
       "    </tr>\n",
       "    <tr>\n",
       "      <th>Interior</th>\n",
       "      <td>9175119047619.046875</td>\n",
       "      <td>9.005714e+08</td>\n",
       "    </tr>\n",
       "    <tr>\n",
       "      <th>NASA</th>\n",
       "      <td>9175119047619.046875</td>\n",
       "      <td>1.214026e+10</td>\n",
       "    </tr>\n",
       "    <tr>\n",
       "      <th>NIH</th>\n",
       "      <td>9175119047619.046875</td>\n",
       "      <td>2.111757e+10</td>\n",
       "    </tr>\n",
       "    <tr>\n",
       "      <th>NSF</th>\n",
       "      <td>9175119047619.046875</td>\n",
       "      <td>4.038810e+09</td>\n",
       "    </tr>\n",
       "    <tr>\n",
       "      <th>Other</th>\n",
       "      <td>9175119047619.046875</td>\n",
       "      <td>1.494762e+09</td>\n",
       "    </tr>\n",
       "    <tr>\n",
       "      <th>USDA</th>\n",
       "      <td>9175119047619.046875</td>\n",
       "      <td>2.380810e+09</td>\n",
       "    </tr>\n",
       "    <tr>\n",
       "      <th>VA</th>\n",
       "      <td>9175119047619.046875</td>\n",
       "      <td>7.338810e+08</td>\n",
       "    </tr>\n",
       "  </tbody>\n",
       "</table>\n",
       "</div>"
      ],
      "text/plain": [
       "                             GDP  Research and Development Budget\n",
       "department                                                       \n",
       "DHS             14997312500000.0                     9.948750e+08\n",
       "DOC         9175119047619.046875                     1.231500e+09\n",
       "DOD         9175119047619.046875                     6.468519e+10\n",
       "DOE         9175119047619.046875                     1.188338e+10\n",
       "DOT         9175119047619.046875                     9.177857e+08\n",
       "EPA         9175119047619.046875                     7.504286e+08\n",
       "HHS         9175119047619.046875                     2.229676e+10\n",
       "Interior    9175119047619.046875                     9.005714e+08\n",
       "NASA        9175119047619.046875                     1.214026e+10\n",
       "NIH         9175119047619.046875                     2.111757e+10\n",
       "NSF         9175119047619.046875                     4.038810e+09\n",
       "Other       9175119047619.046875                     1.494762e+09\n",
       "USDA        9175119047619.046875                     2.380810e+09\n",
       "VA          9175119047619.046875                     7.338810e+08"
      ]
     },
     "execution_count": 7,
     "metadata": {},
     "output_type": "execute_result"
    }
   ],
   "source": [
    "pivot_table_gdp_rdbudget = pd.pivot_table(df_fedrd_melted_tidy, \n",
    "                                          values = ['Research and Development Budget', 'GDP'], \n",
    "                                          index = 'department', aggfunc = 'mean')\n",
    "pivot_table_gdp_rdbudget"
   ]
  },
  {
   "cell_type": "markdown",
   "metadata": {},
   "source": [
    "##### Part Two: Visualizations"
   ]
  },
  {
   "cell_type": "markdown",
   "metadata": {},
   "source": [
    "tree map for replacing bar chart - shows area instead of angles (for a specific year, distributuion of rd budget)\n",
    "line chart\n"
   ]
  },
  {
   "cell_type": "markdown",
   "metadata": {},
   "source": [
    "To compare the distribution of the research and development budget to the various departments throughout time, I am using three different tree charts. The tree charts are helpful because they more clearly demonstrate the difference in sizing, as opposed to pie charts which use angles. I am comparing the years 1977, 1997, and 2017."
   ]
  },
  {
   "cell_type": "code",
   "execution_count": 11,
   "metadata": {},
   "outputs": [],
   "source": [
    "df_fedrd_1977 = df_fedrd_melted_tidy[df_fedrd_melted_tidy['Year']==1977]\n",
    "df_fedrd_1997 = df_fedrd_melted_tidy[df_fedrd_melted_tidy['Year']==1997]\n",
    "df_fedrd_2017 = df_fedrd_melted_tidy[df_fedrd_melted_tidy['Year']==2017]"
   ]
  },
  {
   "cell_type": "markdown",
   "metadata": {},
   "source": [
    "Distribution of Budget in 1977:"
   ]
  },
  {
   "cell_type": "code",
   "execution_count": 13,
   "metadata": {},
   "outputs": [
    {
     "name": "stderr",
     "output_type": "stream",
     "text": [
      "/opt/anaconda3/envs/streamlitenv/lib/python3.12/site-packages/squarify/__init__.py:231: MatplotlibDeprecationWarning: The get_cmap function was deprecated in Matplotlib 3.7 and will be removed in 3.11. Use ``matplotlib.colormaps[name]`` or ``matplotlib.colormaps.get_cmap()`` or ``pyplot.get_cmap()`` instead.\n",
      "  cmap = matplotlib.cm.get_cmap()\n"
     ]
    },
    {
     "data": {
      "text/plain": [
       "<function matplotlib.pyplot.show(close=None, block=None)>"
      ]
     },
     "execution_count": 13,
     "metadata": {},
     "output_type": "execute_result"
    },
    {
     "data": {
      "image/png": "[encoded data removed]",
      "text/plain": [
       "<Figure size 640x480 with 1 Axes>"
      ]
     },
     "metadata": {},
     "output_type": "display_data"
    }
   ],
   "source": [
    "squarify.plot(sizes=df_fedrd_1977['Research and Development Budget'], \n",
    "              label=df_fedrd_1977['department'], \n",
    "              alpha=0.8)\n",
    "plt.axis('off')\n",
    "plt.show"
   ]
  },
  {
   "cell_type": "markdown",
   "metadata": {},
   "source": [
    "Distribution of Budget in 1997:"
   ]
  },
  {
   "cell_type": "code",
   "execution_count": 12,
   "metadata": {},
   "outputs": [
    {
     "name": "stderr",
     "output_type": "stream",
     "text": [
      "/opt/anaconda3/envs/streamlitenv/lib/python3.12/site-packages/squarify/__init__.py:231: MatplotlibDeprecationWarning: The get_cmap function was deprecated in Matplotlib 3.7 and will be removed in 3.11. Use ``matplotlib.colormaps[name]`` or ``matplotlib.colormaps.get_cmap()`` or ``pyplot.get_cmap()`` instead.\n",
      "  cmap = matplotlib.cm.get_cmap()\n"
     ]
    },
    {
     "data": {
      "text/plain": [
       "<function matplotlib.pyplot.show(close=None, block=None)>"
      ]
     },
     "execution_count": 12,
     "metadata": {},
     "output_type": "execute_result"
    },
    {
     "data": {
      "image/png": "[encoded data removed]",
      "text/plain": [
       "<Figure size 640x480 with 1 Axes>"
      ]
     },
     "metadata": {},
     "output_type": "display_data"
    }
   ],
   "source": [
    "squarify.plot(sizes=df_fedrd_1997['Research and Development Budget'], \n",
    "              label=df_fedrd_1997['department'], \n",
    "              alpha=0.8)\n",
    "plt.axis('off')\n",
    "plt.show"
   ]
  },
  {
   "cell_type": "markdown",
   "metadata": {},
   "source": [
    "Distribution of Budget in 2017:"
   ]
  },
  {
   "cell_type": "code",
   "execution_count": 14,
   "metadata": {},
   "outputs": [
    {
     "name": "stderr",
     "output_type": "stream",
     "text": [
      "/opt/anaconda3/envs/streamlitenv/lib/python3.12/site-packages/squarify/__init__.py:231: MatplotlibDeprecationWarning: The get_cmap function was deprecated in Matplotlib 3.7 and will be removed in 3.11. Use ``matplotlib.colormaps[name]`` or ``matplotlib.colormaps.get_cmap()`` or ``pyplot.get_cmap()`` instead.\n",
      "  cmap = matplotlib.cm.get_cmap()\n"
     ]
    },
    {
     "data": {
      "text/plain": [
       "<function matplotlib.pyplot.show(close=None, block=None)>"
      ]
     },
     "execution_count": 14,
     "metadata": {},
     "output_type": "execute_result"
    },
    {
     "data": {
      "image/png": "[encoded data removed]",
      "text/plain": [
       "<Figure size 640x480 with 1 Axes>"
      ]
     },
     "metadata": {},
     "output_type": "display_data"
    }
   ],
   "source": [
    "squarify.plot(sizes=df_fedrd_2017['Research and Development Budget'], \n",
    "              label=df_fedrd_2017['department'], \n",
    "              alpha=0.8)\n",
    "plt.axis('off')\n",
    "plt.show"
   ]
  },
  {
   "cell_type": "markdown",
   "metadata": {},
   "source": [
    "StackOverflow Links Used:\n",
    "- https://stackoverflow.com/questions/15891038/change-column-type-in-pandas \n",
    "- https://stackoverflow.com/questions/51004029/create-a-new-dataframe-based-on-rows-with-a-certain-value \n"
   ]
  }
 ],
 "metadata": {
  "kernelspec": {
   "display_name": "base",
   "language": "python",
   "name": "python3"
  },
  "language_info": {
   "codemirror_mode": {
    "name": "ipython",
    "version": 3
   },
   "file_extension": ".py",
   "mimetype": "text/x-python",
   "name": "python",
   "nbconvert_exporter": "python",
   "pygments_lexer": "ipython3",
   "version": "3.12.7"
  }
 },
 "nbformat": 4,
 "nbformat_minor": 2
}

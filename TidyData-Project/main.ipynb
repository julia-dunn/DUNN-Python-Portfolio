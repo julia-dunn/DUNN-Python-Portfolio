{
 "cells": [
  {
   "cell_type": "markdown",
   "metadata": {},
   "source": [
    "#### This is the Jupiter Notebook for my Tidy Data Project, using the data file regarding the federal research and development budgets across different government departments."
   ]
  },
  {
   "cell_type": "markdown",
   "metadata": {},
   "source": [
    "In tyding the data, I must first define my dataframe"
   ]
  },
  {
   "cell_type": "code",
   "execution_count": 19,
   "metadata": {},
   "outputs": [],
   "source": [
    "import pandas as pd #import pandas dictionary to be referred to later\n",
    "\n",
    "df_fedrd = pd.read_csv('fed_rd_year&gdp.csv') # define dataframe"
   ]
  },
  {
   "cell_type": "markdown",
   "metadata": {},
   "source": [
    "Next, I need to melt my dataframe such that the different variables are defined. This step is what reorients the columns such that the years and GDPs, which are values, are not correctly different rows. It must still be split such that the year and GDP variables are different columns. "
   ]
  },
  {
   "cell_type": "code",
   "execution_count": null,
   "metadata": {},
   "outputs": [
    {
     "name": "stdout",
     "output_type": "stream",
     "text": [
      "    department                  Year_GDP  Research and Development Budget\n",
      "0          DHS   1976_gdp1790000000000.0                              NaN\n",
      "1          DOC   1976_gdp1790000000000.0                     8.190000e+08\n",
      "2          DOD   1976_gdp1790000000000.0                     3.569600e+10\n",
      "3          DOE   1976_gdp1790000000000.0                     1.088200e+10\n",
      "4          DOT   1976_gdp1790000000000.0                     1.142000e+09\n",
      "..         ...                       ...                              ...\n",
      "583        NIH  2017_gdp19177000000000.0                     3.305200e+10\n",
      "584        NSF  2017_gdp19177000000000.0                     6.040000e+09\n",
      "585      Other  2017_gdp19177000000000.0                     1.553000e+09\n",
      "586       USDA  2017_gdp19177000000000.0                     2.625000e+09\n",
      "587         VA  2017_gdp19177000000000.0                     1.367000e+09\n",
      "\n",
      "[588 rows x 3 columns]\n"
     ]
    }
   ],
   "source": [
    "df_fedrd_melted = pd.melt(df_fedrd,\n",
    "                          id_vars = 'department', # holds constant the column for department\n",
    "                          value_vars = df_fedrd.columns[1:], # selects all the columns to be reoriented\n",
    "                          var_name = 'Year_GDP', # renames the column now containing the previous column names\n",
    "                          value_name='Research and Development Budget') #names the column containing all of the values from the original untidy dataframe\n",
    "\n",
    "print(df_fedrd_melted)"
   ]
  },
  {
   "cell_type": "markdown",
   "metadata": {},
   "source": [
    "Now, I still need to split the dataframe such that the gdp and year are different columns, with correct formatting"
   ]
  },
  {
   "cell_type": "code",
   "execution_count": null,
   "metadata": {},
   "outputs": [
    {
     "data": {
      "text/html": [
       "<div>\n",
       "<style scoped>\n",
       "    .dataframe tbody tr th:only-of-type {\n",
       "        vertical-align: middle;\n",
       "    }\n",
       "\n",
       "    .dataframe tbody tr th {\n",
       "        vertical-align: top;\n",
       "    }\n",
       "\n",
       "    .dataframe thead th {\n",
       "        text-align: right;\n",
       "    }\n",
       "</style>\n",
       "<table border=\"1\" class=\"dataframe\">\n",
       "  <thead>\n",
       "    <tr style=\"text-align: right;\">\n",
       "      <th></th>\n",
       "      <th>department</th>\n",
       "      <th>Research and Development Budget</th>\n",
       "      <th>Year</th>\n",
       "      <th>GDP</th>\n",
       "    </tr>\n",
       "  </thead>\n",
       "  <tbody>\n",
       "    <tr>\n",
       "      <th>0</th>\n",
       "      <td>DHS</td>\n",
       "      <td>NaN</td>\n",
       "      <td>1976</td>\n",
       "      <td>1790000000000.0</td>\n",
       "    </tr>\n",
       "    <tr>\n",
       "      <th>1</th>\n",
       "      <td>DOC</td>\n",
       "      <td>8.190000e+08</td>\n",
       "      <td>1976</td>\n",
       "      <td>1790000000000.0</td>\n",
       "    </tr>\n",
       "    <tr>\n",
       "      <th>2</th>\n",
       "      <td>DOD</td>\n",
       "      <td>3.569600e+10</td>\n",
       "      <td>1976</td>\n",
       "      <td>1790000000000.0</td>\n",
       "    </tr>\n",
       "    <tr>\n",
       "      <th>3</th>\n",
       "      <td>DOE</td>\n",
       "      <td>1.088200e+10</td>\n",
       "      <td>1976</td>\n",
       "      <td>1790000000000.0</td>\n",
       "    </tr>\n",
       "    <tr>\n",
       "      <th>4</th>\n",
       "      <td>DOT</td>\n",
       "      <td>1.142000e+09</td>\n",
       "      <td>1976</td>\n",
       "      <td>1790000000000.0</td>\n",
       "    </tr>\n",
       "    <tr>\n",
       "      <th>...</th>\n",
       "      <td>...</td>\n",
       "      <td>...</td>\n",
       "      <td>...</td>\n",
       "      <td>...</td>\n",
       "    </tr>\n",
       "    <tr>\n",
       "      <th>583</th>\n",
       "      <td>NIH</td>\n",
       "      <td>3.305200e+10</td>\n",
       "      <td>2017</td>\n",
       "      <td>19177000000000.0</td>\n",
       "    </tr>\n",
       "    <tr>\n",
       "      <th>584</th>\n",
       "      <td>NSF</td>\n",
       "      <td>6.040000e+09</td>\n",
       "      <td>2017</td>\n",
       "      <td>19177000000000.0</td>\n",
       "    </tr>\n",
       "    <tr>\n",
       "      <th>585</th>\n",
       "      <td>Other</td>\n",
       "      <td>1.553000e+09</td>\n",
       "      <td>2017</td>\n",
       "      <td>19177000000000.0</td>\n",
       "    </tr>\n",
       "    <tr>\n",
       "      <th>586</th>\n",
       "      <td>USDA</td>\n",
       "      <td>2.625000e+09</td>\n",
       "      <td>2017</td>\n",
       "      <td>19177000000000.0</td>\n",
       "    </tr>\n",
       "    <tr>\n",
       "      <th>587</th>\n",
       "      <td>VA</td>\n",
       "      <td>1.367000e+09</td>\n",
       "      <td>2017</td>\n",
       "      <td>19177000000000.0</td>\n",
       "    </tr>\n",
       "  </tbody>\n",
       "</table>\n",
       "<p>588 rows × 4 columns</p>\n",
       "</div>"
      ],
      "text/plain": [
       "    department  Research and Development Budget  Year               GDP\n",
       "0          DHS                              NaN  1976   1790000000000.0\n",
       "1          DOC                     8.190000e+08  1976   1790000000000.0\n",
       "2          DOD                     3.569600e+10  1976   1790000000000.0\n",
       "3          DOE                     1.088200e+10  1976   1790000000000.0\n",
       "4          DOT                     1.142000e+09  1976   1790000000000.0\n",
       "..         ...                              ...   ...               ...\n",
       "583        NIH                     3.305200e+10  2017  19177000000000.0\n",
       "584        NSF                     6.040000e+09  2017  19177000000000.0\n",
       "585      Other                     1.553000e+09  2017  19177000000000.0\n",
       "586       USDA                     2.625000e+09  2017  19177000000000.0\n",
       "587         VA                     1.367000e+09  2017  19177000000000.0\n",
       "\n",
       "[588 rows x 4 columns]"
      ]
     },
     "execution_count": 40,
     "metadata": {},
     "output_type": "execute_result"
    }
   ],
   "source": [
    "df_fedrd_melted[['Year','GDP']] = df_fedrd_melted['Year_GDP'].str.split('_', expand=True) # splits the column with two variables into two columns, expand=true makes them two columns instead of a list of two variables\n",
    "df_fedrd_melted_tidy = df_fedrd_melted.drop('Year_GDP', axis=1) # gets rid of messy/unwanted column\n",
    "df_fedrd_melted_tidy['GDP'] = df_fedrd_melted_tidy['GDP'].str.replace('gdp','') # fixes formatting such that GDP column does not contain unnecessary information\n",
    "df_fedrd_melted_tidy"
   ]
  }
 ],
 "metadata": {
  "kernelspec": {
   "display_name": "streamlitenv",
   "language": "python",
   "name": "python3"
  },
  "language_info": {
   "codemirror_mode": {
    "name": "ipython",
    "version": 3
   },
   "file_extension": ".py",
   "mimetype": "text/x-python",
   "name": "python",
   "nbconvert_exporter": "python",
   "pygments_lexer": "ipython3",
   "version": "3.12.8"
  }
 },
 "nbformat": 4,
 "nbformat_minor": 2
}

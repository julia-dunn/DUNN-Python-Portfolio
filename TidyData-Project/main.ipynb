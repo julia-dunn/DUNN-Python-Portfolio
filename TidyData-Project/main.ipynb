{
 "cells": [
  {
   "cell_type": "markdown",
   "metadata": {},
   "source": [
    "# Tidy Data Project: Federal Research and Development Budgets"
   ]
  },
  {
   "cell_type": "markdown",
   "metadata": {},
   "source": [
    "This is the Jupiter Notebook for my Tidy Data Project, using the data file regarding the federal research and development budgets across different government departments."
   ]
  },
  {
   "cell_type": "markdown",
   "metadata": {},
   "source": [
    "## Section One: Data Cleaning and Tidying Process"
   ]
  },
  {
   "cell_type": "markdown",
   "metadata": {},
   "source": [
    "In general, when tidying data, one must ensure that every variable forms a colun, every observation forms a row, and every value is a cell. In my case, that meant the columns should be defined as the department, the year, the gdp, and the budget. The rows are every combination of those variables. For example, one row might include \"DHS, 2005, 9E13, 7E9,\" in which each of those objects are different cells. "
   ]
  },
  {
   "cell_type": "markdown",
   "metadata": {},
   "source": [
    "In tyding the data, I must first define my dataframe. This brings in my external csv such that it can be interpreted as a pandas dataframe (pandas cheat sheet)."
   ]
  },
  {
   "cell_type": "code",
   "execution_count": 173,
   "metadata": {},
   "outputs": [],
   "source": [
    "import pandas as pd # import pandas dictionary to be referred to later\n",
    "import seaborn as sns\n",
    "import matplotlib.pyplot as plt\n",
    "import squarify\n",
    "import numpy as np\n",
    "\n",
    "df_fedrd = pd.read_csv('fed_rd_year&gdp.csv') # define dataframe"
   ]
  },
  {
   "cell_type": "markdown",
   "metadata": {},
   "source": [
    "Next, I need to melt my dataframe such that the different variables are defined. This step is what reorients the columns such that the years and GDPs, which are values, are not correctly different rows. It must still be split such that the year and GDP variables are different columns. As demonstrated in the Pandas Cheat Sheet, it is important that values themselves, such as the specific year and GDP, not be names of columns. Values should instead be cells within the column of the variable, titled \"year\" or \"gdp\"."
   ]
  },
  {
   "cell_type": "code",
   "execution_count": 174,
   "metadata": {},
   "outputs": [
    {
     "data": {
      "text/html": [
       "<div>\n",
       "<style scoped>\n",
       "    .dataframe tbody tr th:only-of-type {\n",
       "        vertical-align: middle;\n",
       "    }\n",
       "\n",
       "    .dataframe tbody tr th {\n",
       "        vertical-align: top;\n",
       "    }\n",
       "\n",
       "    .dataframe thead th {\n",
       "        text-align: right;\n",
       "    }\n",
       "</style>\n",
       "<table border=\"1\" class=\"dataframe\">\n",
       "  <thead>\n",
       "    <tr style=\"text-align: right;\">\n",
       "      <th></th>\n",
       "      <th>department</th>\n",
       "      <th>Year_GDP</th>\n",
       "      <th>Research and Development Budget</th>\n",
       "    </tr>\n",
       "  </thead>\n",
       "  <tbody>\n",
       "    <tr>\n",
       "      <th>0</th>\n",
       "      <td>DHS</td>\n",
       "      <td>1976_gdp1790000000000.0</td>\n",
       "      <td>NaN</td>\n",
       "    </tr>\n",
       "    <tr>\n",
       "      <th>1</th>\n",
       "      <td>DOC</td>\n",
       "      <td>1976_gdp1790000000000.0</td>\n",
       "      <td>8.190000e+08</td>\n",
       "    </tr>\n",
       "    <tr>\n",
       "      <th>2</th>\n",
       "      <td>DOD</td>\n",
       "      <td>1976_gdp1790000000000.0</td>\n",
       "      <td>3.569600e+10</td>\n",
       "    </tr>\n",
       "    <tr>\n",
       "      <th>3</th>\n",
       "      <td>DOE</td>\n",
       "      <td>1976_gdp1790000000000.0</td>\n",
       "      <td>1.088200e+10</td>\n",
       "    </tr>\n",
       "    <tr>\n",
       "      <th>4</th>\n",
       "      <td>DOT</td>\n",
       "      <td>1976_gdp1790000000000.0</td>\n",
       "      <td>1.142000e+09</td>\n",
       "    </tr>\n",
       "    <tr>\n",
       "      <th>...</th>\n",
       "      <td>...</td>\n",
       "      <td>...</td>\n",
       "      <td>...</td>\n",
       "    </tr>\n",
       "    <tr>\n",
       "      <th>583</th>\n",
       "      <td>NIH</td>\n",
       "      <td>2017_gdp19177000000000.0</td>\n",
       "      <td>3.305200e+10</td>\n",
       "    </tr>\n",
       "    <tr>\n",
       "      <th>584</th>\n",
       "      <td>NSF</td>\n",
       "      <td>2017_gdp19177000000000.0</td>\n",
       "      <td>6.040000e+09</td>\n",
       "    </tr>\n",
       "    <tr>\n",
       "      <th>585</th>\n",
       "      <td>Other</td>\n",
       "      <td>2017_gdp19177000000000.0</td>\n",
       "      <td>1.553000e+09</td>\n",
       "    </tr>\n",
       "    <tr>\n",
       "      <th>586</th>\n",
       "      <td>USDA</td>\n",
       "      <td>2017_gdp19177000000000.0</td>\n",
       "      <td>2.625000e+09</td>\n",
       "    </tr>\n",
       "    <tr>\n",
       "      <th>587</th>\n",
       "      <td>VA</td>\n",
       "      <td>2017_gdp19177000000000.0</td>\n",
       "      <td>1.367000e+09</td>\n",
       "    </tr>\n",
       "  </tbody>\n",
       "</table>\n",
       "<p>588 rows × 3 columns</p>\n",
       "</div>"
      ],
      "text/plain": [
       "    department                  Year_GDP  Research and Development Budget\n",
       "0          DHS   1976_gdp1790000000000.0                              NaN\n",
       "1          DOC   1976_gdp1790000000000.0                     8.190000e+08\n",
       "2          DOD   1976_gdp1790000000000.0                     3.569600e+10\n",
       "3          DOE   1976_gdp1790000000000.0                     1.088200e+10\n",
       "4          DOT   1976_gdp1790000000000.0                     1.142000e+09\n",
       "..         ...                       ...                              ...\n",
       "583        NIH  2017_gdp19177000000000.0                     3.305200e+10\n",
       "584        NSF  2017_gdp19177000000000.0                     6.040000e+09\n",
       "585      Other  2017_gdp19177000000000.0                     1.553000e+09\n",
       "586       USDA  2017_gdp19177000000000.0                     2.625000e+09\n",
       "587         VA  2017_gdp19177000000000.0                     1.367000e+09\n",
       "\n",
       "[588 rows x 3 columns]"
      ]
     },
     "execution_count": 174,
     "metadata": {},
     "output_type": "execute_result"
    }
   ],
   "source": [
    "df_fedrd_melted = pd.melt(df_fedrd,\n",
    "                          id_vars = 'department', # holds constant the column for department\n",
    "                          value_vars = df_fedrd.columns[1:], # selects all the columns to be reoriented\n",
    "                          var_name = 'Year_GDP', # renames the column now containing the previous column names\n",
    "                          value_name='Research and Development Budget') #names the column containing all of the values from the original untidy dataframe\n",
    "\n",
    "df_fedrd_melted"
   ]
  },
  {
   "cell_type": "markdown",
   "metadata": {},
   "source": [
    "Now, I still need to split the dataframe such that the gdp and year are different columns, with correct formatting. This aligns with the tidy data principle discussed in the article Tidy Data, by Hadley Wickham. There should not be multiple variables/variable types in one column. In this case, the dataset included two different numerical values in one column (the year and the gdp), as weell as including a string in the numerical value."
   ]
  },
  {
   "cell_type": "code",
   "execution_count": 175,
   "metadata": {},
   "outputs": [
    {
     "data": {
      "text/html": [
       "<div>\n",
       "<style scoped>\n",
       "    .dataframe tbody tr th:only-of-type {\n",
       "        vertical-align: middle;\n",
       "    }\n",
       "\n",
       "    .dataframe tbody tr th {\n",
       "        vertical-align: top;\n",
       "    }\n",
       "\n",
       "    .dataframe thead th {\n",
       "        text-align: right;\n",
       "    }\n",
       "</style>\n",
       "<table border=\"1\" class=\"dataframe\">\n",
       "  <thead>\n",
       "    <tr style=\"text-align: right;\">\n",
       "      <th></th>\n",
       "      <th>department</th>\n",
       "      <th>Research and Development Budget</th>\n",
       "      <th>Year</th>\n",
       "      <th>GDP</th>\n",
       "    </tr>\n",
       "  </thead>\n",
       "  <tbody>\n",
       "    <tr>\n",
       "      <th>0</th>\n",
       "      <td>DHS</td>\n",
       "      <td>NaN</td>\n",
       "      <td>1976</td>\n",
       "      <td>1790000000000.0</td>\n",
       "    </tr>\n",
       "    <tr>\n",
       "      <th>1</th>\n",
       "      <td>DOC</td>\n",
       "      <td>8.190000e+08</td>\n",
       "      <td>1976</td>\n",
       "      <td>1790000000000.0</td>\n",
       "    </tr>\n",
       "    <tr>\n",
       "      <th>2</th>\n",
       "      <td>DOD</td>\n",
       "      <td>3.569600e+10</td>\n",
       "      <td>1976</td>\n",
       "      <td>1790000000000.0</td>\n",
       "    </tr>\n",
       "    <tr>\n",
       "      <th>3</th>\n",
       "      <td>DOE</td>\n",
       "      <td>1.088200e+10</td>\n",
       "      <td>1976</td>\n",
       "      <td>1790000000000.0</td>\n",
       "    </tr>\n",
       "    <tr>\n",
       "      <th>4</th>\n",
       "      <td>DOT</td>\n",
       "      <td>1.142000e+09</td>\n",
       "      <td>1976</td>\n",
       "      <td>1790000000000.0</td>\n",
       "    </tr>\n",
       "    <tr>\n",
       "      <th>...</th>\n",
       "      <td>...</td>\n",
       "      <td>...</td>\n",
       "      <td>...</td>\n",
       "      <td>...</td>\n",
       "    </tr>\n",
       "    <tr>\n",
       "      <th>583</th>\n",
       "      <td>NIH</td>\n",
       "      <td>3.305200e+10</td>\n",
       "      <td>2017</td>\n",
       "      <td>19177000000000.0</td>\n",
       "    </tr>\n",
       "    <tr>\n",
       "      <th>584</th>\n",
       "      <td>NSF</td>\n",
       "      <td>6.040000e+09</td>\n",
       "      <td>2017</td>\n",
       "      <td>19177000000000.0</td>\n",
       "    </tr>\n",
       "    <tr>\n",
       "      <th>585</th>\n",
       "      <td>Other</td>\n",
       "      <td>1.553000e+09</td>\n",
       "      <td>2017</td>\n",
       "      <td>19177000000000.0</td>\n",
       "    </tr>\n",
       "    <tr>\n",
       "      <th>586</th>\n",
       "      <td>USDA</td>\n",
       "      <td>2.625000e+09</td>\n",
       "      <td>2017</td>\n",
       "      <td>19177000000000.0</td>\n",
       "    </tr>\n",
       "    <tr>\n",
       "      <th>587</th>\n",
       "      <td>VA</td>\n",
       "      <td>1.367000e+09</td>\n",
       "      <td>2017</td>\n",
       "      <td>19177000000000.0</td>\n",
       "    </tr>\n",
       "  </tbody>\n",
       "</table>\n",
       "<p>588 rows × 4 columns</p>\n",
       "</div>"
      ],
      "text/plain": [
       "    department  Research and Development Budget  Year               GDP\n",
       "0          DHS                              NaN  1976   1790000000000.0\n",
       "1          DOC                     8.190000e+08  1976   1790000000000.0\n",
       "2          DOD                     3.569600e+10  1976   1790000000000.0\n",
       "3          DOE                     1.088200e+10  1976   1790000000000.0\n",
       "4          DOT                     1.142000e+09  1976   1790000000000.0\n",
       "..         ...                              ...   ...               ...\n",
       "583        NIH                     3.305200e+10  2017  19177000000000.0\n",
       "584        NSF                     6.040000e+09  2017  19177000000000.0\n",
       "585      Other                     1.553000e+09  2017  19177000000000.0\n",
       "586       USDA                     2.625000e+09  2017  19177000000000.0\n",
       "587         VA                     1.367000e+09  2017  19177000000000.0\n",
       "\n",
       "[588 rows x 4 columns]"
      ]
     },
     "execution_count": 175,
     "metadata": {},
     "output_type": "execute_result"
    }
   ],
   "source": [
    "df_fedrd_melted[['Year','GDP']] = df_fedrd_melted['Year_GDP'].str.split('_', expand=True) # splits the column with two variables into two columns, expand=true makes them two columns instead of a list of two variables\n",
    "df_fedrd_melted_tidy = df_fedrd_melted.drop('Year_GDP', axis=1) # gets rid of messy/unwanted column\n",
    "df_fedrd_melted_tidy['GDP'] = df_fedrd_melted_tidy['GDP'].str.replace('gdp','') # fixes formatting such that GDP column does not contain unnecessary information\n",
    "df_fedrd_melted_tidy"
   ]
  },
  {
   "cell_type": "markdown",
   "metadata": {},
   "source": [
    "The next step is to tidy the data with regards to the missing data, as for the first few years there is no recorded information regarding the research and development budget of the DHS. What is missing from this dataset, nore specifically, is the research and development budget for the department DHS (that is the department for homeland security), from 1976 to 2001. This makes sense because the department of homeland security was created in 2002. Thus, this value is missing at random. It is not dependent on the value of the budget itself but instead dependent on a different variable. Thus, what makes the most sense with regards to this missing data is a deletion of the missing observations, or null values. In this instance, as emphasized in the article Tidy Data, we could either impute a value or delete the null observational cells. I chose to delete these rows because the department itself did not exist, it was not allocated some budget which we do not know. "
   ]
  },
  {
   "cell_type": "code",
   "execution_count": 176,
   "metadata": {},
   "outputs": [
    {
     "data": {
      "text/html": [
       "<div>\n",
       "<style scoped>\n",
       "    .dataframe tbody tr th:only-of-type {\n",
       "        vertical-align: middle;\n",
       "    }\n",
       "\n",
       "    .dataframe tbody tr th {\n",
       "        vertical-align: top;\n",
       "    }\n",
       "\n",
       "    .dataframe thead th {\n",
       "        text-align: right;\n",
       "    }\n",
       "</style>\n",
       "<table border=\"1\" class=\"dataframe\">\n",
       "  <thead>\n",
       "    <tr style=\"text-align: right;\">\n",
       "      <th></th>\n",
       "      <th>department</th>\n",
       "      <th>Research and Development Budget</th>\n",
       "      <th>Year</th>\n",
       "      <th>GDP</th>\n",
       "    </tr>\n",
       "  </thead>\n",
       "  <tbody>\n",
       "    <tr>\n",
       "      <th>1</th>\n",
       "      <td>DOC</td>\n",
       "      <td>8.190000e+08</td>\n",
       "      <td>1976</td>\n",
       "      <td>1790000000000.0</td>\n",
       "    </tr>\n",
       "    <tr>\n",
       "      <th>2</th>\n",
       "      <td>DOD</td>\n",
       "      <td>3.569600e+10</td>\n",
       "      <td>1976</td>\n",
       "      <td>1790000000000.0</td>\n",
       "    </tr>\n",
       "    <tr>\n",
       "      <th>3</th>\n",
       "      <td>DOE</td>\n",
       "      <td>1.088200e+10</td>\n",
       "      <td>1976</td>\n",
       "      <td>1790000000000.0</td>\n",
       "    </tr>\n",
       "    <tr>\n",
       "      <th>4</th>\n",
       "      <td>DOT</td>\n",
       "      <td>1.142000e+09</td>\n",
       "      <td>1976</td>\n",
       "      <td>1790000000000.0</td>\n",
       "    </tr>\n",
       "    <tr>\n",
       "      <th>5</th>\n",
       "      <td>EPA</td>\n",
       "      <td>9.680000e+08</td>\n",
       "      <td>1976</td>\n",
       "      <td>1790000000000.0</td>\n",
       "    </tr>\n",
       "    <tr>\n",
       "      <th>...</th>\n",
       "      <td>...</td>\n",
       "      <td>...</td>\n",
       "      <td>...</td>\n",
       "      <td>...</td>\n",
       "    </tr>\n",
       "    <tr>\n",
       "      <th>583</th>\n",
       "      <td>NIH</td>\n",
       "      <td>3.305200e+10</td>\n",
       "      <td>2017</td>\n",
       "      <td>19177000000000.0</td>\n",
       "    </tr>\n",
       "    <tr>\n",
       "      <th>584</th>\n",
       "      <td>NSF</td>\n",
       "      <td>6.040000e+09</td>\n",
       "      <td>2017</td>\n",
       "      <td>19177000000000.0</td>\n",
       "    </tr>\n",
       "    <tr>\n",
       "      <th>585</th>\n",
       "      <td>Other</td>\n",
       "      <td>1.553000e+09</td>\n",
       "      <td>2017</td>\n",
       "      <td>19177000000000.0</td>\n",
       "    </tr>\n",
       "    <tr>\n",
       "      <th>586</th>\n",
       "      <td>USDA</td>\n",
       "      <td>2.625000e+09</td>\n",
       "      <td>2017</td>\n",
       "      <td>19177000000000.0</td>\n",
       "    </tr>\n",
       "    <tr>\n",
       "      <th>587</th>\n",
       "      <td>VA</td>\n",
       "      <td>1.367000e+09</td>\n",
       "      <td>2017</td>\n",
       "      <td>19177000000000.0</td>\n",
       "    </tr>\n",
       "  </tbody>\n",
       "</table>\n",
       "<p>562 rows × 4 columns</p>\n",
       "</div>"
      ],
      "text/plain": [
       "    department  Research and Development Budget  Year               GDP\n",
       "1          DOC                     8.190000e+08  1976   1790000000000.0\n",
       "2          DOD                     3.569600e+10  1976   1790000000000.0\n",
       "3          DOE                     1.088200e+10  1976   1790000000000.0\n",
       "4          DOT                     1.142000e+09  1976   1790000000000.0\n",
       "5          EPA                     9.680000e+08  1976   1790000000000.0\n",
       "..         ...                              ...   ...               ...\n",
       "583        NIH                     3.305200e+10  2017  19177000000000.0\n",
       "584        NSF                     6.040000e+09  2017  19177000000000.0\n",
       "585      Other                     1.553000e+09  2017  19177000000000.0\n",
       "586       USDA                     2.625000e+09  2017  19177000000000.0\n",
       "587         VA                     1.367000e+09  2017  19177000000000.0\n",
       "\n",
       "[562 rows x 4 columns]"
      ]
     },
     "execution_count": 176,
     "metadata": {},
     "output_type": "execute_result"
    }
   ],
   "source": [
    "df_fedrd_melted_tidy = df_fedrd_melted_tidy.dropna() # .dropna() removes all of the null values from the data frame\n",
    "df_fedrd_melted_tidy"
   ]
  },
  {
   "cell_type": "markdown",
   "metadata": {},
   "source": [
    "## Section Two: Analysis of the Data"
   ]
  },
  {
   "cell_type": "markdown",
   "metadata": {},
   "source": [
    "In completing an analysis of the data, it is important to know what each department is not only in its acronym, but also its full name.\n",
    "\n",
    "- DOD: Department of Defense\n",
    "- NASA: National Aeronautics and Space Administration\n",
    "- DOE: Department of Energy\n",
    "- HHS: Department of Health and Human Services\n",
    "- NSH: National Science Foundation\n",
    "- USDA: US Department of Agriculture\n",
    "- Interior: Department of Interior\n",
    "- DOT: Department of Transportation\n",
    "- EPA: Environmental Protection Agency\n",
    "- DOC: Department of Corrections\n",
    "- DHS: Department of Veterans Affairs\n",
    "- Other: other research and development spending"
   ]
  },
  {
   "cell_type": "markdown",
   "metadata": {},
   "source": [
    "### Part One: Pivot Tables and Aggregation Functions"
   ]
  },
  {
   "cell_type": "markdown",
   "metadata": {},
   "source": [
    "##### Pivot Table One: Mean GDP and Budget per Department"
   ]
  },
  {
   "cell_type": "markdown",
   "metadata": {},
   "source": [
    "The below table uses mean aggregation functions to demonstrate the mean GDP and Research Development Budget for each of the federal departments in the dataset. The mean GDP is constant across all departments because that was a value representing the Gross Domestic Product of the combined funds the federal govenrment distributed. Thus, the GDP was dependent on time but did not differ across department in any specific year. This is true for all of the departments except the department of homeland security because that was not enacted until 2002."
   ]
  },
  {
   "cell_type": "code",
   "execution_count": 177,
   "metadata": {},
   "outputs": [],
   "source": [
    "# in order to calculate the mean and use aggregation functions, the values need to be numeric datatypes, cannot be objects\n",
    "df_fedrd_melted_tidy.loc[:,'Research and Development Budget'] = pd.to_numeric(df_fedrd_melted_tidy['Research and Development Budget']) \n",
    "df_fedrd_melted_tidy.loc[:,'GDP'] = pd.to_numeric(df_fedrd_melted_tidy['GDP'])\n",
    "df_fedrd_melted_tidy.loc[:, 'Year'] = pd.to_numeric(df_fedrd_melted_tidy['Year'])"
   ]
  },
  {
   "cell_type": "code",
   "execution_count": 178,
   "metadata": {},
   "outputs": [
    {
     "data": {
      "text/html": [
       "<div>\n",
       "<style scoped>\n",
       "    .dataframe tbody tr th:only-of-type {\n",
       "        vertical-align: middle;\n",
       "    }\n",
       "\n",
       "    .dataframe tbody tr th {\n",
       "        vertical-align: top;\n",
       "    }\n",
       "\n",
       "    .dataframe thead th {\n",
       "        text-align: right;\n",
       "    }\n",
       "</style>\n",
       "<table border=\"1\" class=\"dataframe\">\n",
       "  <thead>\n",
       "    <tr style=\"text-align: right;\">\n",
       "      <th></th>\n",
       "      <th>GDP</th>\n",
       "      <th>Research and Development Budget</th>\n",
       "    </tr>\n",
       "    <tr>\n",
       "      <th>department</th>\n",
       "      <th></th>\n",
       "      <th></th>\n",
       "    </tr>\n",
       "  </thead>\n",
       "  <tbody>\n",
       "    <tr>\n",
       "      <th>DHS</th>\n",
       "      <td>14997312500000.0</td>\n",
       "      <td>9.948750e+08</td>\n",
       "    </tr>\n",
       "    <tr>\n",
       "      <th>DOC</th>\n",
       "      <td>9175119047619.046875</td>\n",
       "      <td>1.231500e+09</td>\n",
       "    </tr>\n",
       "    <tr>\n",
       "      <th>DOD</th>\n",
       "      <td>9175119047619.046875</td>\n",
       "      <td>6.468519e+10</td>\n",
       "    </tr>\n",
       "    <tr>\n",
       "      <th>DOE</th>\n",
       "      <td>9175119047619.046875</td>\n",
       "      <td>1.188338e+10</td>\n",
       "    </tr>\n",
       "    <tr>\n",
       "      <th>DOT</th>\n",
       "      <td>9175119047619.046875</td>\n",
       "      <td>9.177857e+08</td>\n",
       "    </tr>\n",
       "    <tr>\n",
       "      <th>EPA</th>\n",
       "      <td>9175119047619.046875</td>\n",
       "      <td>7.504286e+08</td>\n",
       "    </tr>\n",
       "    <tr>\n",
       "      <th>HHS</th>\n",
       "      <td>9175119047619.046875</td>\n",
       "      <td>2.229676e+10</td>\n",
       "    </tr>\n",
       "    <tr>\n",
       "      <th>Interior</th>\n",
       "      <td>9175119047619.046875</td>\n",
       "      <td>9.005714e+08</td>\n",
       "    </tr>\n",
       "    <tr>\n",
       "      <th>NASA</th>\n",
       "      <td>9175119047619.046875</td>\n",
       "      <td>1.214026e+10</td>\n",
       "    </tr>\n",
       "    <tr>\n",
       "      <th>NIH</th>\n",
       "      <td>9175119047619.046875</td>\n",
       "      <td>2.111757e+10</td>\n",
       "    </tr>\n",
       "    <tr>\n",
       "      <th>NSF</th>\n",
       "      <td>9175119047619.046875</td>\n",
       "      <td>4.038810e+09</td>\n",
       "    </tr>\n",
       "    <tr>\n",
       "      <th>Other</th>\n",
       "      <td>9175119047619.046875</td>\n",
       "      <td>1.494762e+09</td>\n",
       "    </tr>\n",
       "    <tr>\n",
       "      <th>USDA</th>\n",
       "      <td>9175119047619.046875</td>\n",
       "      <td>2.380810e+09</td>\n",
       "    </tr>\n",
       "    <tr>\n",
       "      <th>VA</th>\n",
       "      <td>9175119047619.046875</td>\n",
       "      <td>7.338810e+08</td>\n",
       "    </tr>\n",
       "  </tbody>\n",
       "</table>\n",
       "</div>"
      ],
      "text/plain": [
       "                             GDP  Research and Development Budget\n",
       "department                                                       \n",
       "DHS             14997312500000.0                     9.948750e+08\n",
       "DOC         9175119047619.046875                     1.231500e+09\n",
       "DOD         9175119047619.046875                     6.468519e+10\n",
       "DOE         9175119047619.046875                     1.188338e+10\n",
       "DOT         9175119047619.046875                     9.177857e+08\n",
       "EPA         9175119047619.046875                     7.504286e+08\n",
       "HHS         9175119047619.046875                     2.229676e+10\n",
       "Interior    9175119047619.046875                     9.005714e+08\n",
       "NASA        9175119047619.046875                     1.214026e+10\n",
       "NIH         9175119047619.046875                     2.111757e+10\n",
       "NSF         9175119047619.046875                     4.038810e+09\n",
       "Other       9175119047619.046875                     1.494762e+09\n",
       "USDA        9175119047619.046875                     2.380810e+09\n",
       "VA          9175119047619.046875                     7.338810e+08"
      ]
     },
     "execution_count": 178,
     "metadata": {},
     "output_type": "execute_result"
    }
   ],
   "source": [
    "pivot_table_department = pd.pivot_table(df_fedrd_melted_tidy, # defines dataset\n",
    "                                          values = ['Research and Development Budget', 'GDP'], # sets the values for the table from the df\n",
    "                                          index = 'department', # creates index over which table iterates\n",
    "                                          aggfunc = 'mean') # sets function that is being taken of the values\n",
    "pivot_table_department"
   ]
  },
  {
   "cell_type": "markdown",
   "metadata": {},
   "source": [
    "Upon looking at the above table, we can see that the department with the highest average allocated budget, when considering between 1976 and 2017, is the department of defense, with an average of 6.46E10 USD, which is roughly 64 billions dollars. This makes sense considering the countries history of an established global military presence. In contrast, the department with the lowest average allocated budget is the VA. Considering the department of defense had the highest budget, it is surprising that these numbers indicate that veterens who surved this country have gone underappreciated and underserved. "
   ]
  },
  {
   "cell_type": "markdown",
   "metadata": {},
   "source": [
    "##### Pivot Table Two: Mean Budget with respect to GDP"
   ]
  },
  {
   "cell_type": "markdown",
   "metadata": {},
   "source": [
    "The next table uses the mean aggregation function to display the average research and development budget across departments. That is, consdiering the gross domestic product from the federal governnment, this displays the average amount of money provided."
   ]
  },
  {
   "cell_type": "code",
   "execution_count": 179,
   "metadata": {},
   "outputs": [
    {
     "data": {
      "text/html": [
       "<div>\n",
       "<style scoped>\n",
       "    .dataframe tbody tr th:only-of-type {\n",
       "        vertical-align: middle;\n",
       "    }\n",
       "\n",
       "    .dataframe tbody tr th {\n",
       "        vertical-align: top;\n",
       "    }\n",
       "\n",
       "    .dataframe thead th {\n",
       "        text-align: right;\n",
       "    }\n",
       "</style>\n",
       "<table border=\"1\" class=\"dataframe\">\n",
       "  <thead>\n",
       "    <tr style=\"text-align: right;\">\n",
       "      <th></th>\n",
       "      <th>Research and Development Budget</th>\n",
       "      <th>Year</th>\n",
       "    </tr>\n",
       "    <tr>\n",
       "      <th>GDP</th>\n",
       "      <th></th>\n",
       "      <th></th>\n",
       "    </tr>\n",
       "  </thead>\n",
       "  <tbody>\n",
       "    <tr>\n",
       "      <th>1.790000e+12</th>\n",
       "      <td>6.632846e+09</td>\n",
       "      <td>1976.0</td>\n",
       "    </tr>\n",
       "    <tr>\n",
       "      <th>2.028000e+12</th>\n",
       "      <td>7.062077e+09</td>\n",
       "      <td>1977.0</td>\n",
       "    </tr>\n",
       "    <tr>\n",
       "      <th>2.278000e+12</th>\n",
       "      <td>7.297231e+09</td>\n",
       "      <td>1978.0</td>\n",
       "    </tr>\n",
       "    <tr>\n",
       "      <th>2.570000e+12</th>\n",
       "      <td>7.430846e+09</td>\n",
       "      <td>1979.0</td>\n",
       "    </tr>\n",
       "    <tr>\n",
       "      <th>2.797000e+12</th>\n",
       "      <td>7.408077e+09</td>\n",
       "      <td>1980.0</td>\n",
       "    </tr>\n",
       "    <tr>\n",
       "      <th>3.138000e+12</th>\n",
       "      <td>7.561846e+09</td>\n",
       "      <td>1981.0</td>\n",
       "    </tr>\n",
       "    <tr>\n",
       "      <th>3.314000e+12</th>\n",
       "      <td>7.342154e+09</td>\n",
       "      <td>1982.0</td>\n",
       "    </tr>\n",
       "    <tr>\n",
       "      <th>3.541000e+12</th>\n",
       "      <td>7.308462e+09</td>\n",
       "      <td>1983.0</td>\n",
       "    </tr>\n",
       "    <tr>\n",
       "      <th>3.953000e+12</th>\n",
       "      <td>8.105462e+09</td>\n",
       "      <td>1984.0</td>\n",
       "    </tr>\n",
       "    <tr>\n",
       "      <th>4.270000e+12</th>\n",
       "      <td>8.832154e+09</td>\n",
       "      <td>1985.0</td>\n",
       "    </tr>\n",
       "    <tr>\n",
       "      <th>4.536000e+12</th>\n",
       "      <td>9.094692e+09</td>\n",
       "      <td>1986.0</td>\n",
       "    </tr>\n",
       "    <tr>\n",
       "      <th>4.782000e+12</th>\n",
       "      <td>9.639538e+09</td>\n",
       "      <td>1987.0</td>\n",
       "    </tr>\n",
       "    <tr>\n",
       "      <th>5.155000e+12</th>\n",
       "      <td>9.753846e+09</td>\n",
       "      <td>1988.0</td>\n",
       "    </tr>\n",
       "    <tr>\n",
       "      <th>5.570000e+12</th>\n",
       "      <td>9.916308e+09</td>\n",
       "      <td>1989.0</td>\n",
       "    </tr>\n",
       "    <tr>\n",
       "      <th>5.915000e+12</th>\n",
       "      <td>9.932769e+09</td>\n",
       "      <td>1990.0</td>\n",
       "    </tr>\n",
       "    <tr>\n",
       "      <th>6.110000e+12</th>\n",
       "      <td>1.000062e+10</td>\n",
       "      <td>1991.0</td>\n",
       "    </tr>\n",
       "    <tr>\n",
       "      <th>6.435000e+12</th>\n",
       "      <td>1.024400e+10</td>\n",
       "      <td>1992.0</td>\n",
       "    </tr>\n",
       "    <tr>\n",
       "      <th>6.795000e+12</th>\n",
       "      <td>1.016000e+10</td>\n",
       "      <td>1993.0</td>\n",
       "    </tr>\n",
       "    <tr>\n",
       "      <th>7.198000e+12</th>\n",
       "      <td>9.790615e+09</td>\n",
       "      <td>1994.0</td>\n",
       "    </tr>\n",
       "    <tr>\n",
       "      <th>7.583000e+12</th>\n",
       "      <td>9.606385e+09</td>\n",
       "      <td>1995.0</td>\n",
       "    </tr>\n",
       "    <tr>\n",
       "      <th>7.978000e+12</th>\n",
       "      <td>9.536769e+09</td>\n",
       "      <td>1996.0</td>\n",
       "    </tr>\n",
       "    <tr>\n",
       "      <th>8.483000e+12</th>\n",
       "      <td>9.770615e+09</td>\n",
       "      <td>1997.0</td>\n",
       "    </tr>\n",
       "    <tr>\n",
       "      <th>8.955000e+12</th>\n",
       "      <td>9.976769e+09</td>\n",
       "      <td>1998.0</td>\n",
       "    </tr>\n",
       "    <tr>\n",
       "      <th>9.511000e+12</th>\n",
       "      <td>1.052823e+10</td>\n",
       "      <td>1999.0</td>\n",
       "    </tr>\n",
       "    <tr>\n",
       "      <th>1.014800e+13</th>\n",
       "      <td>1.094608e+10</td>\n",
       "      <td>2000.0</td>\n",
       "    </tr>\n",
       "    <tr>\n",
       "      <th>1.056500e+13</th>\n",
       "      <td>1.178438e+10</td>\n",
       "      <td>2001.0</td>\n",
       "    </tr>\n",
       "    <tr>\n",
       "      <th>1.087700e+13</th>\n",
       "      <td>1.216814e+10</td>\n",
       "      <td>2002.0</td>\n",
       "    </tr>\n",
       "    <tr>\n",
       "      <th>1.133200e+13</th>\n",
       "      <td>1.371500e+10</td>\n",
       "      <td>2003.0</td>\n",
       "    </tr>\n",
       "    <tr>\n",
       "      <th>1.208900e+13</th>\n",
       "      <td>1.422171e+10</td>\n",
       "      <td>2004.0</td>\n",
       "    </tr>\n",
       "    <tr>\n",
       "      <th>1.288900e+13</th>\n",
       "      <td>1.429279e+10</td>\n",
       "      <td>2005.0</td>\n",
       "    </tr>\n",
       "    <tr>\n",
       "      <th>1.368500e+13</th>\n",
       "      <td>1.424493e+10</td>\n",
       "      <td>2006.0</td>\n",
       "    </tr>\n",
       "    <tr>\n",
       "      <th>1.432300e+13</th>\n",
       "      <td>1.441621e+10</td>\n",
       "      <td>2007.0</td>\n",
       "    </tr>\n",
       "    <tr>\n",
       "      <th>1.441500e+13</th>\n",
       "      <td>1.437679e+10</td>\n",
       "      <td>2009.0</td>\n",
       "    </tr>\n",
       "    <tr>\n",
       "      <th>1.475200e+13</th>\n",
       "      <td>1.434693e+10</td>\n",
       "      <td>2008.0</td>\n",
       "    </tr>\n",
       "    <tr>\n",
       "      <th>1.479900e+13</th>\n",
       "      <td>1.461114e+10</td>\n",
       "      <td>2010.0</td>\n",
       "    </tr>\n",
       "    <tr>\n",
       "      <th>1.537900e+13</th>\n",
       "      <td>1.387543e+10</td>\n",
       "      <td>2011.0</td>\n",
       "    </tr>\n",
       "    <tr>\n",
       "      <th>1.602700e+13</th>\n",
       "      <td>1.349600e+10</td>\n",
       "      <td>2012.0</td>\n",
       "    </tr>\n",
       "    <tr>\n",
       "      <th>1.651600e+13</th>\n",
       "      <td>1.229436e+10</td>\n",
       "      <td>2013.0</td>\n",
       "    </tr>\n",
       "    <tr>\n",
       "      <th>1.724400e+13</th>\n",
       "      <td>1.252736e+10</td>\n",
       "      <td>2014.0</td>\n",
       "    </tr>\n",
       "    <tr>\n",
       "      <th>1.798300e+13</th>\n",
       "      <td>1.247200e+10</td>\n",
       "      <td>2015.0</td>\n",
       "    </tr>\n",
       "    <tr>\n",
       "      <th>1.847000e+13</th>\n",
       "      <td>1.327750e+10</td>\n",
       "      <td>2016.0</td>\n",
       "    </tr>\n",
       "    <tr>\n",
       "      <th>1.917700e+13</th>\n",
       "      <td>1.168614e+10</td>\n",
       "      <td>2017.0</td>\n",
       "    </tr>\n",
       "  </tbody>\n",
       "</table>\n",
       "</div>"
      ],
      "text/plain": [
       "              Research and Development Budget    Year\n",
       "GDP                                                  \n",
       "1.790000e+12                     6.632846e+09  1976.0\n",
       "2.028000e+12                     7.062077e+09  1977.0\n",
       "2.278000e+12                     7.297231e+09  1978.0\n",
       "2.570000e+12                     7.430846e+09  1979.0\n",
       "2.797000e+12                     7.408077e+09  1980.0\n",
       "3.138000e+12                     7.561846e+09  1981.0\n",
       "3.314000e+12                     7.342154e+09  1982.0\n",
       "3.541000e+12                     7.308462e+09  1983.0\n",
       "3.953000e+12                     8.105462e+09  1984.0\n",
       "4.270000e+12                     8.832154e+09  1985.0\n",
       "4.536000e+12                     9.094692e+09  1986.0\n",
       "4.782000e+12                     9.639538e+09  1987.0\n",
       "5.155000e+12                     9.753846e+09  1988.0\n",
       "5.570000e+12                     9.916308e+09  1989.0\n",
       "5.915000e+12                     9.932769e+09  1990.0\n",
       "6.110000e+12                     1.000062e+10  1991.0\n",
       "6.435000e+12                     1.024400e+10  1992.0\n",
       "6.795000e+12                     1.016000e+10  1993.0\n",
       "7.198000e+12                     9.790615e+09  1994.0\n",
       "7.583000e+12                     9.606385e+09  1995.0\n",
       "7.978000e+12                     9.536769e+09  1996.0\n",
       "8.483000e+12                     9.770615e+09  1997.0\n",
       "8.955000e+12                     9.976769e+09  1998.0\n",
       "9.511000e+12                     1.052823e+10  1999.0\n",
       "1.014800e+13                     1.094608e+10  2000.0\n",
       "1.056500e+13                     1.178438e+10  2001.0\n",
       "1.087700e+13                     1.216814e+10  2002.0\n",
       "1.133200e+13                     1.371500e+10  2003.0\n",
       "1.208900e+13                     1.422171e+10  2004.0\n",
       "1.288900e+13                     1.429279e+10  2005.0\n",
       "1.368500e+13                     1.424493e+10  2006.0\n",
       "1.432300e+13                     1.441621e+10  2007.0\n",
       "1.441500e+13                     1.437679e+10  2009.0\n",
       "1.475200e+13                     1.434693e+10  2008.0\n",
       "1.479900e+13                     1.461114e+10  2010.0\n",
       "1.537900e+13                     1.387543e+10  2011.0\n",
       "1.602700e+13                     1.349600e+10  2012.0\n",
       "1.651600e+13                     1.229436e+10  2013.0\n",
       "1.724400e+13                     1.252736e+10  2014.0\n",
       "1.798300e+13                     1.247200e+10  2015.0\n",
       "1.847000e+13                     1.327750e+10  2016.0\n",
       "1.917700e+13                     1.168614e+10  2017.0"
      ]
     },
     "execution_count": 179,
     "metadata": {},
     "output_type": "execute_result"
    }
   ],
   "source": [
    "pivot_table_gdp = pd.pivot_table(df_fedrd_melted_tidy, # defines dataset\n",
    "                                 values = ['Year','Research and Development Budget'], # sets the values for the table from the df\n",
    "                                 index = 'GDP', # creates index over which table iterates\n",
    "                                 aggfunc = 'mean') # sets function that is being taken of the values\n",
    "pivot_table_gdp"
   ]
  },
  {
   "cell_type": "markdown",
   "metadata": {},
   "source": [
    "The above pivot table, because of the quanitity of GDPs, is hard to comprehend perfectly without a visualization. Thus, a visualization of the relationship between budget and federal GDP will be created and analyzied below."
   ]
  },
  {
   "cell_type": "markdown",
   "metadata": {},
   "source": [
    "### Part Two: Visualizations"
   ]
  },
  {
   "cell_type": "markdown",
   "metadata": {},
   "source": [
    "#### Visualization One: GDP with respect to Time"
   ]
  },
  {
   "cell_type": "markdown",
   "metadata": {},
   "source": [
    "GDP with time"
   ]
  },
  {
   "cell_type": "code",
   "execution_count": 180,
   "metadata": {},
   "outputs": [
    {
     "data": {
      "text/plain": [
       "Text(0.5, 1.0, 'GDP with respect to Time')"
      ]
     },
     "execution_count": 180,
     "metadata": {},
     "output_type": "execute_result"
    },
    {
     "data": {
      "image/png": "[encoded data removed]",
      "text/plain": [
       "<Figure size 800x600 with 1 Axes>"
      ]
     },
     "metadata": {},
     "output_type": "display_data"
    }
   ],
   "source": [
    "plt.figure(figsize=(8,6)) # sets size of figure being displayed\n",
    "sns.lineplot(x=df_fedrd_melted_tidy['Year'], # sets x axis from data\n",
    "             y=df_fedrd_melted_tidy['GDP'], # sets y axis from data\n",
    "             data = df_fedrd_melted_tidy) # defines data\n",
    "plt.xlabel('Year') # labels x axis\n",
    "plt.ylabel('GDP (1E13 USD)') # labels y axis\n",
    "plt.title('GDP with respect to Time') # titles visualization"
   ]
  },
  {
   "cell_type": "markdown",
   "metadata": {},
   "source": [
    "The above visualization demonstrates the federal GDP, that is Gross Domestic Product, throughout time. There is a slight drop right below 2010, during and following the 2008 recession and housing crisis. Overall, the GDP of the nation has been steadily increasing, in allignment with the countries innovation and value for a stable economy."
   ]
  },
  {
   "cell_type": "markdown",
   "metadata": {},
   "source": [
    "#### Visualization Two: Average Research and Development Budget with respect to GDP"
   ]
  },
  {
   "cell_type": "markdown",
   "metadata": {},
   "source": [
    "I also am creating a visualization to demonstrate how the average allocated research and development budget changes with respect to the federal GDP."
   ]
  },
  {
   "cell_type": "code",
   "execution_count": 181,
   "metadata": {},
   "outputs": [],
   "source": [
    "# create a dataframe with the values created from the pivot table, resetting the index such that GDP is once again a column in the dataframe\n",
    "df_gdp_rdbudget=pd.DataFrame(pivot_table_gdp)\n",
    "df_gdp_rdbudget['GDP']=df_gdp_rdbudget.index\n",
    "df_gdp_rdbudget = df_gdp_rdbudget.reset_index(drop=True)"
   ]
  },
  {
   "cell_type": "code",
   "execution_count": 182,
   "metadata": {},
   "outputs": [
    {
     "data": {
      "text/plain": [
       "Text(0.5, 1.0, 'Research and Development Budget with respect to Federal GDP')"
      ]
     },
     "execution_count": 182,
     "metadata": {},
     "output_type": "execute_result"
    },
    {
     "data": {
      "image/png": "[encoded data removed]",
      "text/plain": [
       "<Figure size 800x600 with 1 Axes>"
      ]
     },
     "metadata": {},
     "output_type": "display_data"
    }
   ],
   "source": [
    "plt.figure(figsize=(8,6)) # sets size of figure\n",
    "sns.lineplot(x = df_gdp_rdbudget['GDP'], # defines x axis \n",
    "             y = df_gdp_rdbudget['Research and Development Budget'], # defines y axis\n",
    "             data = df_gdp_rdbudget, # selects data\n",
    "             marker = 'o') # formatting - indicates shape of scatter points\n",
    "plt.xlabel('GDP (1E13 USD)') # labels x axis, with scaling factor and units\n",
    "plt.ylabel(\"Research and Develop Budget (1E10 USD)\") # labels y axis, with scaling factor and units\n",
    "plt.title('Research and Development Budget with respect to Federal GDP') # titles plot "
   ]
  },
  {
   "cell_type": "markdown",
   "metadata": {},
   "source": [
    "The above visualization has a somewhat surprising result. I would have anticipated that with increasing domesitc production, there would be a relatively linear relationship with the allocated budget. However, once the GDP reached around 14 trillion dollars, there was a distinct trend back down in research and development. This is possibly because of a confidence in US production and thus a decreased priority in further research and development."
   ]
  },
  {
   "cell_type": "markdown",
   "metadata": {},
   "source": [
    "#### Visualizations Three, Four, Five: Tree Chart Distribution of Total Research and Development Budget"
   ]
  },
  {
   "cell_type": "markdown",
   "metadata": {},
   "source": [
    "To compare the distribution of the research and development budget to the various departments throughout time, I am using three different tree charts. The tree charts are helpful because they more clearly demonstrate the difference in sizing, as opposed to pie charts which use angles. I am comparing the first year in the dataset (1976), the year the DHS (department of homeland security) was founded (2002), and the last year in the dataset (2017)."
   ]
  },
  {
   "cell_type": "code",
   "execution_count": 183,
   "metadata": {},
   "outputs": [],
   "source": [
    "# creates dataframe for each year being plotted\n",
    "df_fedrd_1976 = df_fedrd_melted_tidy[df_fedrd_melted_tidy['Year']==1976]\n",
    "df_fedrd_2002 = df_fedrd_melted_tidy[df_fedrd_melted_tidy['Year']==2002]\n",
    "df_fedrd_2017 = df_fedrd_melted_tidy[df_fedrd_melted_tidy['Year']==2017]"
   ]
  },
  {
   "cell_type": "code",
   "execution_count": 184,
   "metadata": {},
   "outputs": [
    {
     "data": {
      "text/plain": [
       "Text(0.5, 1.0, 'Distribution of Budget across Departments in 2017')"
      ]
     },
     "execution_count": 184,
     "metadata": {},
     "output_type": "execute_result"
    },
    {
     "data": {
      "image/png": "[encoded data removed]",
      "text/plain": [
       "<Figure size 1800x600 with 3 Axes>"
      ]
     },
     "metadata": {},
     "output_type": "display_data"
    }
   ],
   "source": [
    "plt.figure(figsize=(18,6)) # sets size of figure\n",
    "\n",
    "# creates figure for 1977\n",
    "plt.subplot(1,3,1) # indicates first column of figure \n",
    "squarify.plot(sizes=df_fedrd_1976['Research and Development Budget'], # indicates the size is dependent on the value of the budget\n",
    "              label=df_fedrd_1976['department'], # indicates the variable categorizing the boxes\n",
    "              alpha=0.8) # sets transparency of tree chart\n",
    "plt.axis('off') # turns off axis with dimensionless numbers\n",
    "plt.title('Distribution of Budget across Departments in 1976') # titles plot\n",
    "\n",
    "# creates figure for 1997 (each row has same purpose as commented above)\n",
    "plt.subplot(1,3,2)\n",
    "squarify.plot(sizes=df_fedrd_2002['Research and Development Budget'], \n",
    "              label=df_fedrd_2002['department'], \n",
    "              alpha=0.8)\n",
    "plt.axis('off')\n",
    "plt.title('Distribution of Budget across Departments in 2002')\n",
    "\n",
    "# creates figure for 2017 (each row has same purpose as commented above)\n",
    "plt.subplot(1,3,3)\n",
    "squarify.plot(sizes=df_fedrd_2017['Research and Development Budget'], \n",
    "              label=df_fedrd_2017['department'], \n",
    "              alpha=0.8)\n",
    "plt.axis('off')\n",
    "plt.title('Distribution of Budget across Departments in 2017')"
   ]
  },
  {
   "cell_type": "markdown",
   "metadata": {},
   "source": [
    "The above visualizations demonstrate a clear adjustment in how the budget was distributed across departments. Notably, the funding for the DOD (department of defense) decreased slightly from 1976 to 2017, as did the budgets for NASA and NSF. Inversely, the funding for the NH department, as well as HHS, and the VA, increased from 1976 to 2017. It is worth nothing, as well, that in 2002 the introduction of the Department of Homeland Security did not substantially impact the overall distribution of the budget, as it had, and continues to recieve, a small proportion of the overall budget.\n",
    "\n",
    "That being said, because of the adjustments in size and number of the departments, there are distinct formatting differences between the above visualizations, making it challenging to more precisely compare the change. However, the alternative, a pie chart, is challenging to interpret simply because the human eye cannot see and understand small changes in angle. This makes the, somewhat complicated, tree chart still the better option."
   ]
  },
  {
   "cell_type": "markdown",
   "metadata": {},
   "source": [
    "Sources Used:\n",
    "- https://stackoverflow.com/questions/15891038/change-column-type-in-pandas \n",
    "- https://stackoverflow.com/questions/51004029/create-a-new-dataframe-based-on-rows-with-a-certain-value \n",
    "- https://stackoverflow.com/questions/20461165/how-to-convert-index-of-a-pandas-dataframe-into-a-column\n",
    "- https://stackoverflow.com/questions/20490274/how-to-reset-index-in-a-pandas-dataframe\n",
    "- https://matplotlib.org/stable/gallery/subplots_axes_and_figures/subplots_demo.html\n",
    "- https://stackoverflow.com/questions/41400136/how-to-do-waffle-charts-in-python-square-piechart\n"
   ]
  }
 ],
 "metadata": {
  "kernelspec": {
   "display_name": "base",
   "language": "python",
   "name": "python3"
  },
  "language_info": {
   "codemirror_mode": {
    "name": "ipython",
    "version": 3
   },
   "file_extension": ".py",
   "mimetype": "text/x-python",
   "name": "python",
   "nbconvert_exporter": "python",
   "pygments_lexer": "ipython3",
   "version": "3.12.7"
  }
 },
 "nbformat": 4,
 "nbformat_minor": 2
}
